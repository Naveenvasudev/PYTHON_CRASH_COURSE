{
 "cells": [
  {
   "cell_type": "markdown",
   "id": "00fc79ea",
   "metadata": {},
   "source": [
    "CHAPTER-10 FILES AND EXCEPTIONS\n",
    "============================="
   ]
  },
  {
   "cell_type": "markdown",
   "id": "089e988b",
   "metadata": {},
   "source": [
    "File Handling\n",
    "-------\n",
    "Python too supports file handling and allows users to handle files i.e., to read and write files, along with many other file handling options, to operate on files. The concept of file handling has stretched over various other languages, but the implementation is either complicated or lengthy, but like other concepts of Python, this concept here is also easy and short. Python treats file differently as text or binary and this is important. Each line of code includes a sequence of characters and they form text file. Each line of a file is terminated with a special character, called the EOL or End of Line characters like comma {,} or newline character. It ends the current line and tells the interpreter a new one has begun. Let’s start with Reading and Writing files. "
   ]
  },
  {
   "cell_type": "markdown",
   "id": "63e9e9e3",
   "metadata": {},
   "source": [
    "\n",
    "\n",
    "\"r\" - Read - Default value. Opens a file for reading, error if the file does not exist\n",
    "\n",
    "\"a\" - Append - Opens a file for appending, creates the file if it does not exist\n",
    "\n",
    "\"w\" - Write - Opens a file for writing, creates the file if it does not exist\n",
    "\n",
    "\"x\" - Create - Creates the specified file, returns an error if the file exists\n",
    "\n"
   ]
  },
  {
   "cell_type": "markdown",
   "id": "2edd14c5",
   "metadata": {},
   "source": [
    "In addition you can specify if the file should be handled as binary or text mode"
   ]
  },
  {
   "cell_type": "markdown",
   "id": "f65e874a",
   "metadata": {},
   "source": [
    "\n",
    "\n",
    "\"t\" - Text - Default value. Text mode\n",
    "\n",
    "\"b\" - Binary - Binary mode (e.g. images)\n"
   ]
  },
  {
   "cell_type": "markdown",
   "id": "8491dadf",
   "metadata": {},
   "source": [
    "## "
   ]
  },
  {
   "cell_type": "markdown",
   "id": "b1513142",
   "metadata": {},
   "source": [
    "Syntax\n",
    "------\n",
    "\n",
    "To open a file for reading it is enough to specify the name of the file:"
   ]
  },
  {
   "cell_type": "code",
   "execution_count": 37,
   "id": "86c1535d",
   "metadata": {},
   "outputs": [],
   "source": [
    "#file  = open(\"file_name.extension\", mode= \"rt\")"
   ]
  },
  {
   "cell_type": "code",
   "execution_count": 41,
   "id": "55131e49",
   "metadata": {},
   "outputs": [],
   "source": [
    "file = open(\"demo.txt\",\"r\")"
   ]
  },
  {
   "cell_type": "markdown",
   "id": "68a63dac",
   "metadata": {},
   "source": [
    "To open the file, use the built-in open() function.\n",
    "\n",
    "The open() function returns a file object, which has a read() method for reading the content of the file:"
   ]
  },
  {
   "cell_type": "code",
   "execution_count": 42,
   "id": "933ac7a6",
   "metadata": {},
   "outputs": [
    {
     "name": "stdout",
     "output_type": "stream",
     "text": [
      "s\n",
      "s\n",
      "s\n",
      "s\n",
      "s\n",
      "s\n",
      "s\n",
      "s\n",
      "s\n",
      "s\n",
      "s\n"
     ]
    }
   ],
   "source": [
    "file =open(\"demo.txt\",\"r\")\n",
    "print(file.read(50))"
   ]
  },
  {
   "cell_type": "markdown",
   "id": "33f8eb8e",
   "metadata": {},
   "source": [
    "If the file is located in a different location, you will have to specify the file path, like this:"
   ]
  },
  {
   "cell_type": "code",
   "execution_count": 43,
   "id": "1f38ca3f",
   "metadata": {},
   "outputs": [
    {
     "data": {
      "text/plain": [
       "'s\\ns\\ns\\ns\\ns\\ns\\ns\\ns\\ns\\ns\\ns'"
      ]
     },
     "execution_count": 43,
     "metadata": {},
     "output_type": "execute_result"
    }
   ],
   "source": [
    "file = open(\"C:/Users/ZEPHYRUS/Links/PYTHON_CRASH_COURSE/demo.txt\",\"r\")\n",
    "file.read()"
   ]
  },
  {
   "cell_type": "markdown",
   "id": "0e468eee",
   "metadata": {},
   "source": [
    "Read Only Parts of the File\n",
    "---\n",
    "\n",
    "By default the read() method returns the whole text, but you can also specify how many characters you want to return:"
   ]
  },
  {
   "cell_type": "code",
   "execution_count": 44,
   "id": "ae5f3f79",
   "metadata": {},
   "outputs": [
    {
     "name": "stdout",
     "output_type": "stream",
     "text": [
      "s\n",
      "s\n",
      "s\n"
     ]
    }
   ],
   "source": [
    "file =open(\"demo.txt\",\"r\")\n",
    "print(file.read(5))"
   ]
  },
  {
   "cell_type": "markdown",
   "id": "713aba37",
   "metadata": {},
   "source": [
    "Read Line\n",
    "----\n",
    "\n",
    "You can return one line by using the readline() method:"
   ]
  },
  {
   "cell_type": "code",
   "execution_count": 45,
   "id": "15b2db7e",
   "metadata": {},
   "outputs": [
    {
     "name": "stdout",
     "output_type": "stream",
     "text": [
      "s\n",
      "\n"
     ]
    }
   ],
   "source": [
    "file =open(\"demo.txt\",\"r\")\n",
    "print(file.readline())"
   ]
  },
  {
   "cell_type": "markdown",
   "id": "e872752d",
   "metadata": {},
   "source": [
    "Read Lines\n",
    "----\n",
    "\n",
    "You can return one line by using the readlines() method:"
   ]
  },
  {
   "cell_type": "code",
   "execution_count": 46,
   "id": "8b7489ce",
   "metadata": {},
   "outputs": [
    {
     "name": "stdout",
     "output_type": "stream",
     "text": [
      "['s\\n', 's\\n', 's\\n', 's\\n', 's\\n', 's\\n', 's\\n', 's\\n', 's\\n', 's\\n', 's']\n"
     ]
    }
   ],
   "source": [
    "file =open(\"demo.txt\",\"r\")\n",
    "print(file.readlines())"
   ]
  },
  {
   "cell_type": "markdown",
   "id": "92fbb956",
   "metadata": {},
   "source": [
    "Loop through the file line by line:\n",
    "----\n",
    "By looping through the lines of the file, you can read the whole file, line by line:"
   ]
  },
  {
   "cell_type": "code",
   "execution_count": 47,
   "id": "4b0254f8",
   "metadata": {},
   "outputs": [
    {
     "name": "stdout",
     "output_type": "stream",
     "text": [
      "s\n",
      "\n",
      "s\n",
      "\n",
      "s\n",
      "\n",
      "s\n",
      "\n",
      "s\n",
      "\n",
      "s\n",
      "\n",
      "s\n",
      "\n",
      "s\n",
      "\n",
      "s\n",
      "\n",
      "s\n",
      "\n",
      "s\n"
     ]
    }
   ],
   "source": [
    "import time\n",
    "file =open(\"demo.txt\",\"r\")\n",
    "for line in file:\n",
    "    print(line)\n",
    "    time.sleep(1)\n"
   ]
  },
  {
   "cell_type": "markdown",
   "id": "41d3f576",
   "metadata": {},
   "source": [
    "Close Files\n",
    "------\n",
    "\n",
    "It is a good practice to always close the file when you are done with it."
   ]
  },
  {
   "cell_type": "code",
   "execution_count": 56,
   "id": "619c1746",
   "metadata": {},
   "outputs": [
    {
     "name": "stdout",
     "output_type": "stream",
     "text": [
      "he doesn't study Tamil on Monday.\n",
      "Does she live in Paris?\n",
      "He doesn't teach math.\n",
      "Cats hate water.\n",
      "Every child likes an ice cream.\n",
      "My brother takes out the trash.\n",
      "The course starts next Sunday.\n",
      "he swims every morning.\n"
     ]
    }
   ],
   "source": [
    "file =open(\"demo.txt\",\"r\")\n",
    "print(file.read())\n",
    "file.close()"
   ]
  },
  {
   "cell_type": "markdown",
   "id": "b2060221",
   "metadata": {},
   "source": [
    "Write to an Existing File\n",
    "--------------------\n",
    "\n",
    "To write to an existing file, you must add a parameter to the open() function:\n",
    "\n",
    "\"a\" - Append - will append to the end of the file\n",
    "\n",
    "\"w\" - Write - will overwrite any existing content"
   ]
  },
  {
   "cell_type": "code",
   "execution_count": 48,
   "id": "8c13d25f",
   "metadata": {},
   "outputs": [],
   "source": [
    "file =open(\"demo.txt\",\"a\")\n",
    "file.write(\"IMAGINATION IS EVERYTHING\")\n",
    "file.close()"
   ]
  },
  {
   "cell_type": "code",
   "execution_count": 49,
   "id": "b8dc45d8",
   "metadata": {},
   "outputs": [
    {
     "data": {
      "text/plain": [
       "'s\\ns\\ns\\ns\\ns\\ns\\ns\\ns\\ns\\ns\\nsIMAGINATION IS EVERYTHING'"
      ]
     },
     "execution_count": 49,
     "metadata": {},
     "output_type": "execute_result"
    }
   ],
   "source": [
    "#open and read the file after the appending:\n",
    "file = open(\"demo.txt\")\n",
    "file.read()\n"
   ]
  },
  {
   "cell_type": "code",
   "execution_count": 50,
   "id": "f1693559",
   "metadata": {},
   "outputs": [],
   "source": [
    "#open the file \"demo.txt\" and overwrite the content:\n",
    "file =open(\"demo.txt\",\"w\")\n",
    "file.write(\"IMAGINATION IS EVERYTHING\")\n",
    "file.close()"
   ]
  },
  {
   "cell_type": "code",
   "execution_count": 51,
   "id": "5d63f432",
   "metadata": {},
   "outputs": [
    {
     "name": "stdout",
     "output_type": "stream",
     "text": [
      "IMAGINATION IS EVERYTHING\n"
     ]
    }
   ],
   "source": [
    "file =open(\"demo.txt\",'r')\n",
    "print(file.read())"
   ]
  },
  {
   "cell_type": "markdown",
   "id": "a51c1dba",
   "metadata": {},
   "source": [
    "Create a New File\n",
    "-----------------------------------------------------------------\n",
    "\n",
    "To create a new file in Python, use the open() method, with one of the following parameters:\n",
    "\n",
    "\"x\" - Create - will create a file, returns an error if the file exist\n",
    "\n",
    "\"a\" - Append - will create a file if the specified file does not exist\n",
    "\n",
    "\"w\" - Write - will create a file if the specified file does not exist"
   ]
  },
  {
   "cell_type": "code",
   "execution_count": 53,
   "id": "bba79709",
   "metadata": {},
   "outputs": [],
   "source": [
    "#Create \n",
    "file = open(\"demo_01.txt\",\"x\")"
   ]
  },
  {
   "cell_type": "code",
   "execution_count": 54,
   "id": "38d63fd6",
   "metadata": {},
   "outputs": [],
   "source": [
    "#Writing \n",
    "file =open(\"demo_01.txt\",\"w\")\n",
    "file.write(\"IMAGINATION IS EVERYTHING\")\n",
    "file.close()"
   ]
  },
  {
   "cell_type": "code",
   "execution_count": 55,
   "id": "768b0ffe",
   "metadata": {},
   "outputs": [
    {
     "data": {
      "text/plain": [
       "'IMAGINATION IS EVERYTHING'"
      ]
     },
     "execution_count": 55,
     "metadata": {},
     "output_type": "execute_result"
    }
   ],
   "source": [
    "#Reading \n",
    "file =open(\"demo_01.txt\",'r')\n",
    "file.read()"
   ]
  },
  {
   "cell_type": "code",
   "execution_count": 56,
   "id": "0ae8f76b",
   "metadata": {},
   "outputs": [],
   "source": [
    "#Appending\n",
    "file=open(\"demo_01.txt\",\"a\")\n",
    "file.write(\"The revolution of the Earth does not directly cause seasons.\")\n",
    "file.close()"
   ]
  },
  {
   "cell_type": "code",
   "execution_count": 57,
   "id": "b636d4ef",
   "metadata": {},
   "outputs": [
    {
     "data": {
      "text/plain": [
       "'IMAGINATION IS EVERYTHINGThe revolution of the Earth does not directly cause seasons.'"
      ]
     },
     "execution_count": 57,
     "metadata": {},
     "output_type": "execute_result"
    }
   ],
   "source": [
    "#Reading \n",
    "file =open(\"demo_01.txt\",'r')\n",
    "file.read()"
   ]
  },
  {
   "cell_type": "code",
   "execution_count": 58,
   "id": "de2814c1",
   "metadata": {},
   "outputs": [],
   "source": [
    "#Close a file\n",
    "file.close()"
   ]
  },
  {
   "cell_type": "markdown",
   "id": "364ebba5",
   "metadata": {},
   "source": [
    "Delete a File\n",
    "-------\n",
    "To delete a file, you must import the OS module, and run its os.remove() function:"
   ]
  },
  {
   "cell_type": "code",
   "execution_count": 59,
   "id": "0b423d8d",
   "metadata": {},
   "outputs": [],
   "source": [
    "import os"
   ]
  },
  {
   "cell_type": "code",
   "execution_count": 60,
   "id": "2c9edae3",
   "metadata": {},
   "outputs": [],
   "source": [
    "os.remove(\"demo_01.txt\")"
   ]
  },
  {
   "cell_type": "markdown",
   "id": "58ef68a6",
   "metadata": {},
   "source": [
    "Check if File exist:\n",
    "----    \n",
    "\n",
    "To avoid getting an error, you might want to check if the file exists before you try to delete it:"
   ]
  },
  {
   "cell_type": "code",
   "execution_count": 61,
   "id": "5750140c",
   "metadata": {},
   "outputs": [],
   "source": [
    "import os\n",
    "if os.path.exists(\"demo.txt\"):\n",
    "  os.remove(\"demo.txt\")\n",
    "else:\n",
    "  print(\"The file does not exist\") "
   ]
  },
  {
   "cell_type": "markdown",
   "id": "0ffc8942",
   "metadata": {},
   "source": [
    "Delete Folder\n",
    "-------------\n",
    "\n",
    "To delete an entire folder, use the os.rmdir() method:"
   ]
  },
  {
   "cell_type": "code",
   "execution_count": 62,
   "id": "053f0e42",
   "metadata": {},
   "outputs": [
    {
     "ename": "FileNotFoundError",
     "evalue": "[WinError 2] The system cannot find the file specified: 'myfolder'",
     "output_type": "error",
     "traceback": [
      "\u001b[1;31m-----------------------------------\u001b[0m",
      "\u001b[1;31mFileNotFoundError\u001b[0mTraceback (most recent call last)",
      "Input \u001b[1;32mIn [62]\u001b[0m, in \u001b[0;36m<module>\u001b[1;34m\u001b[0m\n\u001b[0;32m      1\u001b[0m \u001b[38;5;28;01mimport\u001b[39;00m \u001b[38;5;21;01mos\u001b[39;00m\n\u001b[1;32m----> 2\u001b[0m \u001b[43mos\u001b[49m\u001b[38;5;241;43m.\u001b[39;49m\u001b[43mrmdir\u001b[49m\u001b[43m(\u001b[49m\u001b[38;5;124;43m\"\u001b[39;49m\u001b[38;5;124;43mmyfolder\u001b[39;49m\u001b[38;5;124;43m\"\u001b[39;49m\u001b[43m)\u001b[49m\n",
      "\u001b[1;31mFileNotFoundError\u001b[0m: [WinError 2] The system cannot find the file specified: 'myfolder'"
     ]
    }
   ],
   "source": [
    "import os\n",
    "os.rmdir(\"myfolder\") "
   ]
  },
  {
   "cell_type": "code",
   "execution_count": 66,
   "id": "a68b25e9",
   "metadata": {},
   "outputs": [
    {
     "name": "stdout",
     "output_type": "stream",
     "text": [
      "x\n",
      "The 'try except' is finished\n"
     ]
    }
   ],
   "source": [
    "#EXCEPTIONS¶\n",
    "try:\n",
    "  print(x)\n",
    "        \n",
    "except:\n",
    "  print(\"Something went wrong\")\n",
    "finally:\n",
    "  print(\"The 'try except' is finished\") \n",
    "    \n"
   ]
  },
  {
   "cell_type": "code",
   "execution_count": null,
   "id": "c24d3801",
   "metadata": {},
   "outputs": [],
   "source": [
    "\n"
   ]
  },
  {
   "cell_type": "code",
   "execution_count": null,
   "id": "f616ff1b",
   "metadata": {},
   "outputs": [],
   "source": []
  }
 ],
 "metadata": {
  "kernelspec": {
   "display_name": "Python 3 (ipykernel)",
   "language": "python",
   "name": "python3"
  },
  "language_info": {
   "codemirror_mode": {
    "name": "ipython",
    "version": 3
   },
   "file_extension": ".py",
   "mimetype": "text/x-python",
   "name": "python",
   "nbconvert_exporter": "python",
   "pygments_lexer": "ipython3",
   "version": "3.10.0"
  }
 },
 "nbformat": 4,
 "nbformat_minor": 5
}
