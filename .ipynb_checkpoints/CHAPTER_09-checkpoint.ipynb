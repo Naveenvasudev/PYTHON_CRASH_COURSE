{
 "cells": [
  {
   "cell_type": "markdown",
   "id": "c042e023",
   "metadata": {},
   "source": [
    "CHAPTER-9 CLASSES\n",
    "========"
   ]
  },
  {
   "cell_type": "markdown",
   "id": "40799c9b",
   "metadata": {},
   "source": [
    "Object-oriented programming is one of the\n",
    "most effective approaches to writing soft-\n",
    "ware. In object-oriented programming you\n",
    "write classes that represent real-world things\n",
    "and situations, and you create objects based on these\n",
    "classes. When you write a class, you define the general\n",
    "behavior that a whole category of objects can have."
   ]
  },
  {
   "cell_type": "markdown",
   "id": "8b2e95b7",
   "metadata": {},
   "source": [
    "Creating and using a Class\n",
    "---------------\n",
    "You can model almost anything using classes. Let’s start by writing a simple\n",
    "class, Dog, that represents a dog—not one dog in particular, but any dog.\n",
    "What do we know about most pet dogs? Well, they all have a name and age.\n",
    "We also know that most dogs sit and roll over. Those two pieces of infor-\n",
    "mation (name and age) and those two behaviors (sit and roll over) will go\n",
    "in our Dog class because they’re common to most dogs. This class will tell\n",
    "Python how to make an object representing a dog. After our class is written,\n",
    "we’ll use it to make individual instances, each of which represents one spe-\n",
    "cific dog."
   ]
  },
  {
   "cell_type": "markdown",
   "id": "a8a27e60",
   "metadata": {},
   "source": [
    "Creating the Dog Class\n",
    "---------\n",
    "Each instance created from the Dog class will store a name and an age, and\n",
    "we’ll give each dog the ability to sit() and roll_over()"
   ]
  },
  {
   "cell_type": "code",
   "execution_count": 2,
   "id": "3dc6835e",
   "metadata": {},
   "outputs": [],
   "source": [
    "class Dog():\n",
    "    def __init__(self, name, age):\n",
    "        self.name = name\n",
    "        self.age = age\n",
    "        \n",
    "    def sit(self):\n",
    "        print(self.name.title() + \" is now sitting.\")\n",
    "       \n",
    "    def roll_over(self):\n",
    "        print(self.name.title()+ \" rolled over!\")"
   ]
  },
  {
   "cell_type": "code",
   "execution_count": 3,
   "id": "1805f615",
   "metadata": {},
   "outputs": [],
   "source": [
    "d = Dog(\"ROG\",3)"
   ]
  },
  {
   "cell_type": "code",
   "execution_count": 4,
   "id": "193d5877",
   "metadata": {},
   "outputs": [
    {
     "name": "stdout",
     "output_type": "stream",
     "text": [
      "Rog is now sitting.\n"
     ]
    }
   ],
   "source": [
    "d.sit()"
   ]
  },
  {
   "cell_type": "code",
   "execution_count": 5,
   "id": "9e5c6d55",
   "metadata": {},
   "outputs": [
    {
     "name": "stdout",
     "output_type": "stream",
     "text": [
      "Rog rolled over!\n"
     ]
    }
   ],
   "source": [
    "d.roll_over()"
   ]
  },
  {
   "cell_type": "markdown",
   "id": "5166f37e",
   "metadata": {},
   "source": [
    "Making an Instance from a Class\n",
    "----------------------\n",
    "Think of a class as a set of instructions for how to make an instance. The\n",
    "class Dog is a set of instructions that tells Python how to make individual\n",
    "instances representing specific dogs.\n",
    "Let’s make an instance representing a specific dog:"
   ]
  },
  {
   "cell_type": "code",
   "execution_count": 6,
   "id": "49829664",
   "metadata": {},
   "outputs": [
    {
     "name": "stdout",
     "output_type": "stream",
     "text": [
      "My dog's name is Willie.\n",
      "My dog is 6 years old.\n"
     ]
    }
   ],
   "source": [
    "class Dog():\n",
    "    def __init__(self, name, age):\n",
    "        self.name = name\n",
    "        self.age = age\n",
    "        \n",
    "    def sit(self):\n",
    "        print(self.name.title() + \" is now sitting.\")\n",
    "       \n",
    "    def roll_over(self):\n",
    "        print(self.name.title()+ \" rolled over!\")\n",
    "\n",
    "\n",
    "my_dog = Dog('willie', 6)\n",
    "print(\"My dog's name is \" + my_dog.name.title() + \".\")\n",
    "print(\"My dog is \" + str(my_dog.age) + \" years old.\")\n"
   ]
  },
  {
   "cell_type": "markdown",
   "id": "6d6be462",
   "metadata": {},
   "source": [
    "Accessing attributes\n",
    "---------------\n",
    "To access the attributes of an instance, you use dot notation. At v we access\n",
    "the value of my_dog’s attribute name by writing:"
   ]
  },
  {
   "cell_type": "code",
   "execution_count": 7,
   "id": "43cb143e",
   "metadata": {},
   "outputs": [
    {
     "data": {
      "text/plain": [
       "'willie'"
      ]
     },
     "execution_count": 7,
     "metadata": {},
     "output_type": "execute_result"
    }
   ],
   "source": [
    "my_dog.name"
   ]
  },
  {
   "cell_type": "markdown",
   "id": "52f5f22d",
   "metadata": {},
   "source": [
    "Calling Methods\n",
    "---------------\n",
    "After we create an instance from the class Dog, we can use dot notation to\n",
    "call any method defined in Dog. Let’s make our dog sit and roll over:"
   ]
  },
  {
   "cell_type": "code",
   "execution_count": 8,
   "id": "ff84e56b",
   "metadata": {},
   "outputs": [
    {
     "name": "stdout",
     "output_type": "stream",
     "text": [
      "Willie is now sitting.\n",
      "Willie rolled over!\n"
     ]
    }
   ],
   "source": [
    "my_dog.sit()\n",
    "my_dog.roll_over()"
   ]
  },
  {
   "cell_type": "markdown",
   "id": "20d2bf62",
   "metadata": {},
   "source": [
    "Creating Multiple Instances\n",
    "-------------------\n",
    "You can create as many instances from a class as you need. Let’s create a\n",
    "second dog called your_dog:"
   ]
  },
  {
   "cell_type": "code",
   "execution_count": 9,
   "id": "5e77a408",
   "metadata": {},
   "outputs": [
    {
     "name": "stdout",
     "output_type": "stream",
     "text": [
      "My dog's name is Willie.\n",
      "My dog is 6 years old.\n",
      "Willie is now sitting.\n"
     ]
    }
   ],
   "source": [
    "y_dog = Dog('willie', 6)\n",
    "your_dog = Dog('lucy', 3)\n",
    "print(\"My dog's name is \" + my_dog.name.title() + \".\")\n",
    "print(\"My dog is \" + str(my_dog.age) + \" years old.\")\n",
    "my_dog.sit()"
   ]
  },
  {
   "cell_type": "code",
   "execution_count": 10,
   "id": "6361003f",
   "metadata": {},
   "outputs": [
    {
     "name": "stdout",
     "output_type": "stream",
     "text": [
      "\n",
      "Your dog's name is Lucy.\n",
      "Your dog is 3 years old.\n",
      "Lucy is now sitting.\n"
     ]
    }
   ],
   "source": [
    "print(\"\\nYour dog's name is \" + your_dog.name.title() + \".\")\n",
    "print(\"Your dog is \" + str(your_dog.age) + \" years old.\")\n",
    "your_dog.sit()"
   ]
  },
  {
   "cell_type": "markdown",
   "id": "a7da692b",
   "metadata": {},
   "source": [
    "working with Classes and Instances\n",
    "----------------------------\n",
    "You can use classes to represent many real-world situations. Once you write\n",
    "a class, you’ll spend most of your time working with instances created from\n",
    "that class. One of the first tasks you’ll want to do is modify the attributes\n",
    "associated with a particular instance. You can modify the attributes of an\n",
    "instance directly or write methods that update attributes in specific ways."
   ]
  },
  {
   "cell_type": "markdown",
   "id": "5e8a87c5",
   "metadata": {},
   "source": [
    "The Car Class\n",
    "-----------\n",
    "Let’s write a new class representing a car. Our class will store information\n",
    "about the kind of car we’re working with, and it will have a method that\n",
    "summarizes this information"
   ]
  },
  {
   "cell_type": "code",
   "execution_count": 16,
   "id": "4b8356fc",
   "metadata": {},
   "outputs": [
    {
     "name": "stdout",
     "output_type": "stream",
     "text": [
      "Audi A4 2016\n",
      "Tesla X1 2017\n"
     ]
    }
   ],
   "source": [
    "class Car():\n",
    "    def __init__(self, company, model, year):\n",
    "       \n",
    "        self.company = company\n",
    "        self.model = model\n",
    "        self.year = year\n",
    "        \n",
    "        \n",
    "    def get_descriptive_name(self):\n",
    "       \n",
    "        long_name = self.company + ' ' + self.model + ' ' + str(self.year) \n",
    "        return long_name.title()\n",
    "    \n",
    "\n",
    "    \n",
    "my_car_1 = Car('audi', 'a4', 2016)\n",
    "my_car_2 = Car('tesla', 'x1', 2017)\n",
    "\n",
    "\n",
    "print(my_car_1.get_descriptive_name())       \n",
    "print(my_car_2.get_descriptive_name())\n",
    "        "
   ]
  },
  {
   "cell_type": "markdown",
   "id": "5319d6c5",
   "metadata": {},
   "source": [
    "Setting a Default Value for an Attribute\n",
    "---------------------\n",
    "Every attribute in a class needs an initial value, even if that value is 0 or an\n",
    "empty string. In some cases, such as when setting a default value, it makes\n",
    "sense to specify this initial value in the body of the __init__() method; if\n",
    "you do this for an attribute, you don’t have to include a parameter for that\n",
    "attribute."
   ]
  },
  {
   "cell_type": "code",
   "execution_count": 20,
   "id": "2ba22b09",
   "metadata": {},
   "outputs": [
    {
     "name": "stdout",
     "output_type": "stream",
     "text": [
      "Audi A4 2016\n",
      "Tesla X1 2017\n",
      "this car has 0 miles on it\n"
     ]
    }
   ],
   "source": [
    "class Car():\n",
    "    def __init__(self, company, model, year):\n",
    "       \n",
    "        self.company = company\n",
    "        self.model = model\n",
    "        self.year = year\n",
    "        self.odometer = 0\n",
    "        \n",
    "    def get_descriptive_name(self):\n",
    "       \n",
    "        long_name = self.company + ' ' + self.model + ' ' + str(self.year) \n",
    "        return long_name.title()\n",
    "    \n",
    "\n",
    "    def read_odometer(self):\n",
    "        \n",
    "        print(\"this car has \" + str(self.odometer)+\" miles on it\")\n",
    "        \n",
    "        \n",
    "my_car_1 = Car('audi', 'a4', 2016)\n",
    "my_car_2 = Car('tesla', 'x1', 2017)\n",
    "\n",
    "\n",
    "print(my_car_1.get_descriptive_name())       \n",
    "\n",
    "my_car_1.read_odometer()       "
   ]
  },
  {
   "cell_type": "markdown",
   "id": "71698ba1",
   "metadata": {},
   "source": [
    "Modifying an attribute’s Value Directly\n",
    "----------\n",
    "The simplest way to modify the value of an attribute is to access the attri-\n",
    "bute directly through an instance. Here we set the odometer reading to 23\n",
    "directly:"
   ]
  },
  {
   "cell_type": "code",
   "execution_count": 23,
   "id": "f3ae8cf3",
   "metadata": {},
   "outputs": [
    {
     "name": "stdout",
     "output_type": "stream",
     "text": [
      "Audi A4 2016\n",
      "this car has 12 miles on it\n"
     ]
    }
   ],
   "source": [
    "class Car():\n",
    "    def __init__(self, company, model, year):\n",
    "       \n",
    "        self.company = company\n",
    "        self.model = model\n",
    "        self.year = year\n",
    "        self.odometer = 0\n",
    "        \n",
    "    def get_descriptive_name(self):\n",
    "       \n",
    "        long_name = self.company + ' ' + self.model + ' ' + str(self.year) \n",
    "        return long_name.title()\n",
    "    \n",
    "\n",
    "    def read_odometer(self):\n",
    "        \n",
    "        print(\"this car has \" + str(self.odometer)+\" miles on it\")\n",
    "        \n",
    "        \n",
    "my_car_1 = Car('audi', 'a4', 2016)\n",
    "my_car_2 = Car('tesla', 'x1', 2017)\n",
    "\n",
    "\n",
    "print(my_car_1.get_descriptive_name())       \n",
    "\n",
    "my_car_1.odometer = 12\n",
    "\n",
    "my_car_1.read_odometer()       "
   ]
  },
  {
   "cell_type": "markdown",
   "id": "425d13d0",
   "metadata": {},
   "source": [
    "Modifying an attribute’s Value through a Method\n",
    "--------------------------------------------\n",
    "It can be helpful to have methods that update certain attributes for you.\n",
    "Instead of accessing the attribute directly, you pass the new value to a\n",
    "method that handles the updating internally.\n",
    "Here’s an example showing a method called update_odometer()"
   ]
  },
  {
   "cell_type": "code",
   "execution_count": 26,
   "id": "99972a2d",
   "metadata": {},
   "outputs": [
    {
     "name": "stdout",
     "output_type": "stream",
     "text": [
      "Audi A4 2016\n",
      "this car has 12 miles on it\n"
     ]
    }
   ],
   "source": [
    "class Car():\n",
    "    def __init__(self, company, model, year):\n",
    "       \n",
    "        self.company = company\n",
    "        self.model = model\n",
    "        self.year = year\n",
    "        self.odometer = 0\n",
    "        \n",
    "    def get_descriptive_name(self):\n",
    "       \n",
    "        long_name = self.company + ' ' + self.model + ' ' + str(self.year) \n",
    "        return long_name.title()\n",
    "    \n",
    "\n",
    "    def read_odometer(self):\n",
    "        \n",
    "        print(\"this car has \" + str(self.odometer)+\" miles on it\")\n",
    "        \n",
    "    def update_odometer(self,milage):\n",
    "        \n",
    "        self.odometer = milage\n",
    "        \n",
    "        \n",
    "my_car_1 = Car('audi', 'a4', 2016)\n",
    "my_car_2 = Car('tesla', 'x1', 2017)\n",
    "\n",
    "\n",
    "print(my_car_1.get_descriptive_name())       \n",
    "\n",
    "my_car_1.update_odometer(12)\n",
    "\n",
    "my_car_1.read_odometer()       "
   ]
  },
  {
   "cell_type": "code",
   "execution_count": 31,
   "id": "864159a2",
   "metadata": {},
   "outputs": [
    {
     "name": "stdout",
     "output_type": "stream",
     "text": [
      "Audi A4 2016\n",
      "this car has 12 miles on it\n"
     ]
    }
   ],
   "source": [
    "class Car():\n",
    "    def __init__(self, company, model, year):\n",
    "       \n",
    "        self.company = company\n",
    "        self.model = model\n",
    "        self.year = year\n",
    "        self.odometer = 0\n",
    "        \n",
    "    def get_descriptive_name(self):\n",
    "       \n",
    "        long_name = self.company + ' ' + self.model + ' ' + str(self.year) \n",
    "        return long_name.title()\n",
    "    \n",
    "\n",
    "    def read_odometer(self):\n",
    "        \n",
    "        print(\"this car has \" + str(self.odometer)+\" miles on it\")\n",
    "        \n",
    "        \n",
    "    def update_odometer(self,milage):\n",
    "        \n",
    "        if milage >= self.odometer:\n",
    "            self.odometer = milage\n",
    "        else:\n",
    "             print(\"you can't roll back an odometer\")\n",
    "                \n",
    "                \n",
    "my_car_1 = Car('audi', 'a4', 2016)\n",
    "my_car_2 = Car('tesla', 'x1', 2017)\n",
    "\n",
    "\n",
    "print(my_car_1.get_descriptive_name())       \n",
    "\n",
    "my_car_1.update_odometer(12)\n",
    "\n",
    "my_car_1.read_odometer()       "
   ]
  },
  {
   "cell_type": "markdown",
   "id": "f49fa955",
   "metadata": {},
   "source": [
    "Incrementing an attribute’s Value through a Method\n",
    "---------------------\n",
    "Sometimes you’ll want to increment an attribute’s value by a certain\n",
    "amount rather than set an entirely new value. Say we buy a used car and\n",
    "put 100 miles on it between the time we buy it and the time we register it.\n",
    "Here’s a method that allows us to pass this incremental amount and add\n",
    "that value to the odometer reading:"
   ]
  },
  {
   "cell_type": "code",
   "execution_count": 33,
   "id": "90badb2f",
   "metadata": {},
   "outputs": [
    {
     "name": "stdout",
     "output_type": "stream",
     "text": [
      "Audi A4 2016\n",
      "this car has 22 miles on it\n"
     ]
    }
   ],
   "source": [
    "class Car():\n",
    "    def __init__(self, company, model, year):\n",
    "       \n",
    "        self.company = company\n",
    "        self.model = model\n",
    "        self.year = year\n",
    "        self.odometer = 0\n",
    "        \n",
    "    def get_descriptive_name(self):\n",
    "       \n",
    "        long_name = self.company + ' ' + self.model + ' ' + str(self.year) \n",
    "        return long_name.title()\n",
    "    \n",
    "\n",
    "    def read_odometer(self):\n",
    "        \n",
    "        print(\"this car has \" + str(self.odometer)+\" miles on it\")\n",
    "        \n",
    "        \n",
    "    def update_odometer(self,milage):\n",
    "        \n",
    "        if milage >= self.odometer:\n",
    "            self.odometer = milage\n",
    "        else:\n",
    "             print(\"you can't roll back an odometer\")\n",
    "                \n",
    "                \n",
    "    def increment_odometer(self,miles):\n",
    "        self.odometer += miles\n",
    "                \n",
    "                \n",
    "                \n",
    "my_car_1 = Car('audi', 'a4', 2016)\n",
    "\n",
    "\n",
    "\n",
    "print(my_car_1.get_descriptive_name())       \n",
    "\n",
    "my_car_1.update_odometer(12)\n",
    "\n",
    "my_car_1.increment_odometer(10)\n",
    "\n",
    "my_car_1.read_odometer()       "
   ]
  },
  {
   "cell_type": "markdown",
   "id": "39f2558d",
   "metadata": {},
   "source": [
    "Inheritance\n",
    "-----------\n",
    "You don’t always have to start from scratch when writing a class. If the class\n",
    "you’re writing is a specialized version of another class you wrote, you can\n",
    "use inheritance. When one class inherits from another, it automatically takes\n",
    "on all the attributes and methods of the first class. The original class is\n",
    "called the parent class, and the new class is the child class. The child class\n",
    "inherits every attribute and method from its parent class but is also free to\n",
    "define new attributes and methods of its own."
   ]
  },
  {
   "cell_type": "markdown",
   "id": "e75ead2f",
   "metadata": {},
   "source": [
    "Types of Inheritance\n",
    "------------------\n",
    "Inheritance is defined as the capability of one class to derive or inherit the properties from some other class and use it whenever needed. Inheritance provides the following properties: \n",
    " \n",
    "\n",
    " It represents real-world relationships well. \n",
    "    \n",
    " It provides reusability of code. We don’t have to write the same code again and again. Also, it allows us to add more features to a class without modifying it. \n",
    "    \n",
    "   It is transitive in nature, which means that if class B inherits from another class A, then all the subclasses of B would automatically inherit from class A. "
   ]
  },
  {
   "cell_type": "code",
   "execution_count": 75,
   "id": "ffebf0b9",
   "metadata": {},
   "outputs": [],
   "source": [
    "class A():\n",
    "    def A_m1(self):\n",
    "        print(\"BOOK1\")\n",
    "        \n",
    "    def A_m2(self):\n",
    "        print(\"BOOK2\") \n",
    "        "
   ]
  },
  {
   "cell_type": "code",
   "execution_count": 76,
   "id": "aa398959",
   "metadata": {},
   "outputs": [],
   "source": [
    "class B():\n",
    "    def B_m1(self):\n",
    "        print(\"BOOK3\")\n",
    "        \n",
    "    def B_m2(self):\n",
    "        print(\"BOOK4\") \n",
    "        "
   ]
  },
  {
   "cell_type": "markdown",
   "id": "310340c2",
   "metadata": {},
   "source": [
    "Single Inheritance:\n",
    "------------\n",
    "\n",
    "    Single inheritance enables a derived class to inherit properties from a single parent class, thus enabling code reusability and the addition of new features to existing code."
   ]
  },
  {
   "cell_type": "code",
   "execution_count": 78,
   "id": "26711cbf",
   "metadata": {},
   "outputs": [
    {
     "name": "stdout",
     "output_type": "stream",
     "text": [
      "BOOK1\n",
      "BOOK5\n"
     ]
    }
   ],
   "source": [
    "class C(A):\n",
    "    def C_m1(self):\n",
    "        print(\"BOOK5\")\n",
    "        \n",
    "    def C_m2(self):\n",
    "        print(\"BOOK6\") \n",
    "        \n",
    "c = C() \n",
    "c.A_m1()\n",
    "c.C_m1()\n"
   ]
  },
  {
   "cell_type": "markdown",
   "id": "751cbffc",
   "metadata": {},
   "source": [
    "Multiple Inheritance: \n",
    "---------------    \n",
    "    When a class can be derived from more than one base class this type of inheritance is called multiple inheritance. In multiple inheritance, all the features of the base classes are inherited into the derived class. "
   ]
  },
  {
   "cell_type": "code",
   "execution_count": 80,
   "id": "baeee168",
   "metadata": {},
   "outputs": [
    {
     "name": "stdout",
     "output_type": "stream",
     "text": [
      "BOOK1\n",
      "BOOK3\n",
      "BOOK5\n"
     ]
    }
   ],
   "source": [
    "class C(A,B):\n",
    "    def C_m1(self):\n",
    "        print('BOOK5')\n",
    "        \n",
    "    def C_m2(self):\n",
    "        print(\"BOOK6\") \n",
    "        \n",
    "c = C() \n",
    "c.A_m1()\n",
    "c.B_m1()\n",
    "c.C_m1()\n"
   ]
  },
  {
   "cell_type": "markdown",
   "id": "1925e75a",
   "metadata": {},
   "source": [
    "Multilevel Inheritance \n",
    "------------------\n",
    "In multilevel inheritance, features of the base class and the derived class are further inherited into the new derived class. This is similar to a relationship representing a child and grandfather. "
   ]
  },
  {
   "cell_type": "code",
   "execution_count": 84,
   "id": "2806936a",
   "metadata": {},
   "outputs": [],
   "source": [
    "class A():\n",
    "    def A_m1(self):\n",
    "        print(\"BOOK1\")\n",
    "        \n",
    "    def A_m2(self):\n",
    "        print(\"BOOK2\") \n",
    "        "
   ]
  },
  {
   "cell_type": "code",
   "execution_count": 85,
   "id": "06c685b3",
   "metadata": {},
   "outputs": [],
   "source": [
    "class B(A):\n",
    "    def B_m1(self):\n",
    "        print(\"BOOK3\")\n",
    "        \n",
    "    def B_m2(self):\n",
    "        print(\"BOOK4\") \n",
    "        "
   ]
  },
  {
   "cell_type": "code",
   "execution_count": 86,
   "id": "5b83db0e",
   "metadata": {},
   "outputs": [
    {
     "name": "stdout",
     "output_type": "stream",
     "text": [
      "BOOK1\n",
      "BOOK3\n",
      "BOOK5\n"
     ]
    }
   ],
   "source": [
    "class C(B):\n",
    "    def C_m1(self):\n",
    "        print('BOOK5')\n",
    "        \n",
    "    def C_m2(self):\n",
    "        print(\"BOOK6\") \n",
    "        \n",
    "c = C() \n",
    "c.A_m1()\n",
    "c.B_m1()\n",
    "c.C_m1()\n"
   ]
  },
  {
   "cell_type": "markdown",
   "id": "9f2b04e9",
   "metadata": {},
   "source": [
    "Hierarchical Inheritance:\n",
    "--------------------\n",
    "    When more than one derived classes are created from a single base this type of inheritance is called hierarchical inheritance. In this program, we have a parent (base) class and two child (derived) classes."
   ]
  },
  {
   "cell_type": "code",
   "execution_count": 89,
   "id": "537bf289",
   "metadata": {},
   "outputs": [],
   "source": [
    "class A():\n",
    "    def A_m1(self):\n",
    "        print(\"BOOK1\")\n",
    "        \n",
    "    def A_m2(self):\n",
    "        print(\"BOOK2\") \n",
    "        "
   ]
  },
  {
   "cell_type": "code",
   "execution_count": 92,
   "id": "75ca0486",
   "metadata": {},
   "outputs": [
    {
     "name": "stdout",
     "output_type": "stream",
     "text": [
      "BOOK2\n",
      "BOOK4\n"
     ]
    }
   ],
   "source": [
    "class B(A):\n",
    "    def B_m1(self):\n",
    "        print(\"BOOK3\")\n",
    "        \n",
    "    def B_m2(self):\n",
    "        print(\"BOOK4\") \n",
    "        \n",
    "b = B()\n",
    "b.A_m2()\n",
    "b.B_m2()"
   ]
  },
  {
   "cell_type": "code",
   "execution_count": 94,
   "id": "50053f3c",
   "metadata": {},
   "outputs": [
    {
     "name": "stdout",
     "output_type": "stream",
     "text": [
      "BOOK2\n",
      "BOOK6\n"
     ]
    }
   ],
   "source": [
    "class C(A):\n",
    "    def C_m1(self):\n",
    "        print('BOOK5')\n",
    "        \n",
    "    def C_m2(self):\n",
    "        print(\"BOOK6\") \n",
    "        \n",
    "c = C() \n",
    "c.A_m2()\n",
    "c.C_m2()\n"
   ]
  },
  {
   "cell_type": "markdown",
   "id": "6699d442",
   "metadata": {},
   "source": [
    "Polymorphism: \n",
    "-----------    \n",
    "    The word polymorphism means having many forms. In programming, polymorphism means the same function name (but different signatures) being used for different types."
   ]
  },
  {
   "cell_type": "code",
   "execution_count": 95,
   "id": "6fe1d3c3",
   "metadata": {},
   "outputs": [
    {
     "name": "stdout",
     "output_type": "stream",
     "text": [
      "12\n",
      "3\n"
     ]
    }
   ],
   "source": [
    "# Python program to demonstrate in-built poly-\n",
    "# morphic functions\n",
    " \n",
    "# len() being used for a string\n",
    "print(len(\"DATA SCIENCE\"))\n",
    " \n",
    "# len() being used for a list\n",
    "print(len([10, 20, 30]))"
   ]
  },
  {
   "cell_type": "code",
   "execution_count": null,
   "id": "a0ddae4c",
   "metadata": {},
   "outputs": [],
   "source": [
    "  "
   ]
  }
 ],
 "metadata": {
  "kernelspec": {
   "display_name": "Python 3 (ipykernel)",
   "language": "python",
   "name": "python3"
  },
  "language_info": {
   "codemirror_mode": {
    "name": "ipython",
    "version": 3
   },
   "file_extension": ".py",
   "mimetype": "text/x-python",
   "name": "python",
   "nbconvert_exporter": "python",
   "pygments_lexer": "ipython3",
   "version": "3.10.0"
  }
 },
 "nbformat": 4,
 "nbformat_minor": 5
}
