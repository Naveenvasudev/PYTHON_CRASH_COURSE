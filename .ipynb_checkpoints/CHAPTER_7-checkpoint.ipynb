{
 "cells": [
  {
   "cell_type": "markdown",
   "id": "cae4397d",
   "metadata": {},
   "source": [
    "CHAPTER-7 USER INPUT AND WHILE LOOPS\n",
    "============="
   ]
  },
  {
   "cell_type": "markdown",
   "id": "a215d880",
   "metadata": {},
   "source": [
    "how the input() function works\n",
    "------------\n",
    "The input() function pauses your program and waits for the user to enter\n",
    "some text. Once Python receives the user’s input, it stores it in a variable to\n",
    "make it convenient for you to work with.\n",
    "\n",
    "For example, the following program asks the user to enter some text,\n",
    "then displays that message back to the user:"
   ]
  },
  {
   "cell_type": "code",
   "execution_count": 2,
   "id": "d63ad00b",
   "metadata": {},
   "outputs": [
    {
     "name": "stdout",
     "output_type": "stream",
     "text": [
      "CHAPTER-7 USER INPUT AND WHILE LOOPS\n"
     ]
    }
   ],
   "source": [
    "Message = input(\"CHAPTER-7 \")"
   ]
  },
  {
   "cell_type": "code",
   "execution_count": 3,
   "id": "ce233f6b",
   "metadata": {},
   "outputs": [
    {
     "data": {
      "text/plain": [
       "'USER INPUT AND WHILE LOOPS'"
      ]
     },
     "execution_count": 3,
     "metadata": {},
     "output_type": "execute_result"
    }
   ],
   "source": [
    "Message"
   ]
  },
  {
   "cell_type": "code",
   "execution_count": 5,
   "id": "fe339ff7",
   "metadata": {},
   "outputs": [
    {
     "data": {
      "text/plain": [
       "str"
      ]
     },
     "execution_count": 5,
     "metadata": {},
     "output_type": "execute_result"
    }
   ],
   "source": [
    "type(Message)"
   ]
  },
  {
   "cell_type": "code",
   "execution_count": null,
   "id": "1813a967",
   "metadata": {},
   "outputs": [],
   "source": [
    "Message = input(\"Enter the intger\")"
   ]
  },
  {
   "cell_type": "code",
   "execution_count": null,
   "id": "25f8d2c9",
   "metadata": {},
   "outputs": [],
   "source": []
  }
 ],
 "metadata": {
  "kernelspec": {
   "display_name": "Python 3 (ipykernel)",
   "language": "python",
   "name": "python3"
  },
  "language_info": {
   "codemirror_mode": {
    "name": "ipython",
    "version": 3
   },
   "file_extension": ".py",
   "mimetype": "text/x-python",
   "name": "python",
   "nbconvert_exporter": "python",
   "pygments_lexer": "ipython3",
   "version": "3.10.0"
  }
 },
 "nbformat": 4,
 "nbformat_minor": 5
}
