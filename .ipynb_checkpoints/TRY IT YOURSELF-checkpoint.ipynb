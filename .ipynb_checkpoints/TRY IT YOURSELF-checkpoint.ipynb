{
 "cells": [
  {
   "cell_type": "code",
   "execution_count": 1,
   "id": "bcaa6871",
   "metadata": {},
   "outputs": [
    {
     "name": "stdout",
     "output_type": "stream",
     "text": [
      "Welcome to Chapter_8:\n"
     ]
    }
   ],
   "source": [
    "def display_message():\n",
    "    print(\"Welcome to Chapter_8:\")\n",
    "    \n",
    "display_message()"
   ]
  },
  {
   "cell_type": "code",
   "execution_count": 2,
   "id": "f1e59475",
   "metadata": {},
   "outputs": [
    {
     "name": "stdout",
     "output_type": "stream",
     "text": [
      "My favorite_book: PYTHON_CRASH_COURSE\n"
     ]
    }
   ],
   "source": [
    "def fav_book(book):\n",
    "    print(\"My favorite_book: \"+book)\n",
    "    \n",
    "fav_book('PYTHON_CRASH_COURSE') "
   ]
  },
  {
   "cell_type": "code",
   "execution_count": 2,
   "id": "1c1661b1",
   "metadata": {},
   "outputs": [
    {
     "name": "stdout",
     "output_type": "stream",
     "text": [
      "Shirt size is S:\n",
      "Shirt size is M:\n"
     ]
    }
   ],
   "source": [
    "def make_shirt(size):\n",
    "    print(\"Shirt size is \"+ size+ ':' )\n",
    "    \n",
    "make_shirt('S')  \n",
    "make_shirt(size='M')\n",
    "    "
   ]
  },
  {
   "cell_type": "code",
   "execution_count": 9,
   "id": "ea1056a1",
   "metadata": {},
   "outputs": [
    {
     "name": "stdout",
     "output_type": "stream",
     "text": [
      "I LOVE PYTHON\n",
      "Shirt size is S:\n"
     ]
    }
   ],
   "source": [
    " def make_shirt(size):\n",
    "        size =size.upper()\n",
    "        if size == \"L\" or size == \"M\":\n",
    "            print(\"I LOVE PYTHON\")\n",
    "        else:\n",
    "            print(\"Shirt size is \"+ size + ':')\n",
    "            \n",
    "make_shirt(\"m\")\n",
    "make_shirt(\"s\")"
   ]
  },
  {
   "cell_type": "code",
   "execution_count": 23,
   "id": "2ce4b78c",
   "metadata": {},
   "outputs": [
    {
     "name": "stdout",
     "output_type": "stream",
     "text": [
      "HOSUR IN INDIA\n",
      "LONDON IN ENGLAND\n",
      "BENGALURU IN INDIA\n"
     ]
    }
   ],
   "source": [
    "def city_name(city , country = \"INDIA\"):\n",
    "    \n",
    "    print(city + \" IN \"+ country )\n",
    "    \n",
    "city_name(\"HOSUR\")\n",
    "city_name(city =\"LONDON\",country = \"ENGLAND\")\n",
    "city_name(\"BENGALURU\")"
   ]
  },
  {
   "cell_type": "code",
   "execution_count": 2,
   "id": "99b23973",
   "metadata": {},
   "outputs": [
    {
     "name": "stdout",
     "output_type": "stream",
     "text": [
      "BENGALURU IN INDIA\n"
     ]
    },
    {
     "data": {
      "text/plain": [
       "('BENGALURU', 'INDIA')"
      ]
     },
     "execution_count": 2,
     "metadata": {},
     "output_type": "execute_result"
    }
   ],
   "source": [
    "def city_name(city , country =  \"INDIA\" ):\n",
    "    \n",
    "    print(city + \" IN \"+ country )\n",
    "    return city,country\n",
    "city_name(\"BENGALURU\")"
   ]
  },
  {
   "cell_type": "code",
   "execution_count": null,
   "id": "fb78c409",
   "metadata": {},
   "outputs": [],
   "source": []
  }
 ],
 "metadata": {
  "kernelspec": {
   "display_name": "Python 3 (ipykernel)",
   "language": "python",
   "name": "python3"
  },
  "language_info": {
   "codemirror_mode": {
    "name": "ipython",
    "version": 3
   },
   "file_extension": ".py",
   "mimetype": "text/x-python",
   "name": "python",
   "nbconvert_exporter": "python",
   "pygments_lexer": "ipython3",
   "version": "3.10.0"
  }
 },
 "nbformat": 4,
 "nbformat_minor": 5
}
