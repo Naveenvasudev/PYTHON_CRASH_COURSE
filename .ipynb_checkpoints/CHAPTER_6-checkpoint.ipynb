{
 "cells": [
  {
   "cell_type": "markdown",
   "id": "bdcb4dad",
   "metadata": {},
   "source": [
    "CHAPTER-6 DICTIONARIES\n",
    "===="
   ]
  },
  {
   "cell_type": "markdown",
   "id": "d80b3c02",
   "metadata": {},
   "source": [
    "A Simple dictionary\n",
    "------------------\n",
    "Consider a game featuring aliens that can have different colors and point\n",
    "values. This simple dictionary stores information about a particular student:"
   ]
  },
  {
   "cell_type": "code",
   "execution_count": 8,
   "id": "80ba5c01",
   "metadata": {},
   "outputs": [
    {
     "name": "stdout",
     "output_type": "stream",
     "text": [
      "{'Roll_number': 12, 'Name': 'Ragu'}\n"
     ]
    }
   ],
   "source": [
    "Student_12 = {'Roll_number':12, 'Name':'Ragu'}\n",
    "print(Student_12)"
   ]
  },
  {
   "cell_type": "code",
   "execution_count": 9,
   "id": "7991651f",
   "metadata": {},
   "outputs": [
    {
     "name": "stdout",
     "output_type": "stream",
     "text": [
      "Ragu\n"
     ]
    }
   ],
   "source": [
    "print(Student_12['Name'])"
   ]
  },
  {
   "cell_type": "markdown",
   "id": "e78a9d4b",
   "metadata": {},
   "source": [
    "working with dictionaries\n",
    "---------"
   ]
  },
  {
   "cell_type": "markdown",
   "id": "4fc645c6",
   "metadata": {},
   "source": [
    "A dictionary in Python is a collection of key-value pairs. Each key is connected\n",
    "to a value, and you can use a key to access the value associated with that key.\n",
    "A key’s value can be a number, a string, a list, or even another dictionary.\n",
    "In fact, you can use any object that you can create in Python as a value in a\n",
    "dictionary.\n",
    "\n",
    "In Python, a dictionary is wrapped in braces, {}, with a series of key-\n",
    "value pairs inside the braces, as shown in the earlier example:"
   ]
  },
  {
   "cell_type": "code",
   "execution_count": 10,
   "id": "0b259511",
   "metadata": {},
   "outputs": [],
   "source": [
    "alien_0 = {'color': 'green' , 'points':5}"
   ]
  },
  {
   "cell_type": "markdown",
   "id": "f2715499",
   "metadata": {},
   "source": [
    "A key-value pair is a set of values associated with each other. When you\n",
    "provide a key, Python returns the value associated with that key. Every key\n",
    "is connected to its value by a colon, and individual key-value pairs are sepa-\n",
    "rated by commas. You can store as many key-value pairs as you want in a\n",
    "dictionary.\n",
    "\n",
    "\n",
    "The simplest dictionary has exactly one key-value pair, as shown in this\n",
    "modified version of the alien_0 dictionary"
   ]
  },
  {
   "cell_type": "code",
   "execution_count": 11,
   "id": "9bb38412",
   "metadata": {},
   "outputs": [],
   "source": [
    "alien_0 = {'color':'green'}"
   ]
  },
  {
   "cell_type": "markdown",
   "id": "6ffd35a9",
   "metadata": {},
   "source": [
    "This dictionary stores one piece of information about alien_0, namely\n",
    "the alien’s color. The string 'color' is a key in this dictionary, and its associ-\n",
    "ated value is 'green'."
   ]
  },
  {
   "cell_type": "markdown",
   "id": "2a6c4cd8",
   "metadata": {},
   "source": [
    "Accessing Values in Dictionary\n",
    "---"
   ]
  },
  {
   "cell_type": "markdown",
   "id": "24fe68e7",
   "metadata": {},
   "source": [
    "To get the value associated with a key, give the name of the dictionary and\n",
    "then place the key inside a set of square brackets, as shown here:"
   ]
  },
  {
   "cell_type": "code",
   "execution_count": 13,
   "id": "db35f6d0",
   "metadata": {},
   "outputs": [
    {
     "name": "stdout",
     "output_type": "stream",
     "text": [
      "green\n"
     ]
    }
   ],
   "source": [
    "alien_0 = {'color':'green'}\n",
    "print(alien_0['color'])"
   ]
  },
  {
   "cell_type": "code",
   "execution_count": 20,
   "id": "b49f448c",
   "metadata": {},
   "outputs": [
    {
     "name": "stdout",
     "output_type": "stream",
     "text": [
      "you just earned 5 points\n"
     ]
    }
   ],
   "source": [
    "alien_0 = {'color': 'green', 'points':5}\n",
    "new_points = alien_0['points']\n",
    "print(\"you just earned \"+str(new_points)+' points')"
   ]
  },
  {
   "cell_type": "markdown",
   "id": "3b458301",
   "metadata": {},
   "source": [
    "Adding New Key-Value Pairs\n",
    "----\n",
    "Dictionaries are dynamic structures, and you can add new key-value pairs\n",
    "to a dictionary at any time. For example, to add a new key-value pair, you\n",
    "would give the name of the dictionary followed by the new key in square\n",
    "brackets along with the new value."
   ]
  },
  {
   "cell_type": "code",
   "execution_count": 22,
   "id": "6d284d01",
   "metadata": {},
   "outputs": [
    {
     "name": "stdout",
     "output_type": "stream",
     "text": [
      "{'color': 'green', 'points': 5}\n"
     ]
    }
   ],
   "source": [
    "alien_0 = {'color':'green', 'points': 5}\n",
    "print(alien_0)"
   ]
  },
  {
   "cell_type": "code",
   "execution_count": 23,
   "id": "d5673ea5",
   "metadata": {},
   "outputs": [
    {
     "name": "stdout",
     "output_type": "stream",
     "text": [
      "{'color': 'green', 'points': 5, 'x_position': 7, 'y_position': 12}\n"
     ]
    }
   ],
   "source": [
    "alien_0['x_position'] = 7\n",
    "alien_0['y_position'] = 12\n",
    "print(alien_0)"
   ]
  },
  {
   "cell_type": "markdown",
   "id": "f1d6a284",
   "metadata": {},
   "source": [
    "Starting with an Empty Dictionary\n",
    "-----------\n",
    "It’s sometimes convenient, or even necessary, to start with an empty diction-\n",
    "ary and then add each new item to it. To start filling an empty dictionary,\n",
    "define a dictionary with an empty set of braces and then add each key-value\n",
    "pair on its own line. For example, here’s how to build the alien_0 dictionary\n",
    "using this approach:"
   ]
  },
  {
   "cell_type": "code",
   "execution_count": 25,
   "id": "4625e109",
   "metadata": {},
   "outputs": [
    {
     "name": "stdout",
     "output_type": "stream",
     "text": [
      "{'color': 'Black', 'model': 'Redmi Note 11 lite '}\n"
     ]
    }
   ],
   "source": [
    "moblie_brand = {}\n",
    "moblie_brand['color'] = 'Black'\n",
    "moblie_brand['model'] = 'Redmi Note 11 lite '\n",
    "print(moblie_brand)"
   ]
  },
  {
   "cell_type": "markdown",
   "id": "14b6d9ce",
   "metadata": {},
   "source": [
    "Modifying Values in a Dictionary\n",
    "---\n",
    "To modify a value in a dictionary, give the name of the dictionary with the\n",
    "key in square brackets and then the new value you want associated with\n",
    "that key"
   ]
  },
  {
   "cell_type": "code",
   "execution_count": 28,
   "id": "0043303c",
   "metadata": {},
   "outputs": [
    {
     "name": "stdout",
     "output_type": "stream",
     "text": [
      "moblie color is Black\n",
      "moblie color is now White\n"
     ]
    }
   ],
   "source": [
    "moblie_brand = {'color': 'Black', 'model': 'Redmi Note 11 lite '}\n",
    "print(\"moblie color is \"+ moblie_brand['color'])\n",
    "moblie_brand['color'] = 'White'\n",
    "print(\"moblie color is now \"+ moblie_brand['color'])"
   ]
  },
  {
   "cell_type": "markdown",
   "id": "cc36f5e2",
   "metadata": {},
   "source": [
    "Removing Key-Value pairs\n",
    "-----\n",
    "When you no longer need a piece of information that’s stored in a diction-\n",
    "ary, you can use the del statement to completely remove a key-value pair.\n",
    "All del needs is the name of the dictionary and the key that you want to\n",
    "remove. "
   ]
  },
  {
   "cell_type": "code",
   "execution_count": 31,
   "id": "2874d47a",
   "metadata": {},
   "outputs": [
    {
     "name": "stdout",
     "output_type": "stream",
     "text": [
      "{'color': 'Black', 'model': 'redmi note 11 lite'}\n",
      "{'color': 'Black'}\n"
     ]
    }
   ],
   "source": [
    "moblie_brand = {'color':'Black','model':'redmi note 11 lite'}\n",
    "print(moblie_brand)\n",
    "del moblie_brand['model']\n",
    "print(moblie_brand)"
   ]
  },
  {
   "cell_type": "markdown",
   "id": "38a5c087",
   "metadata": {},
   "source": [
    "A Dictionary of Similar Objects\n",
    "-------------------\n",
    "The previous example involved storing different kinds of information about\n",
    "one object, an alien in a game. You can also use a dictionary to store one\n",
    "kind of information about many objects. \n",
    "\n",
    "For example, say you want to poll a number of people and ask them what their favorite programming language\n",
    "is. A dictionary is useful for storing the results of a simple poll, like this:"
   ]
  },
  {
   "cell_type": "code",
   "execution_count": 33,
   "id": "324c48b6",
   "metadata": {},
   "outputs": [
    {
     "name": "stdout",
     "output_type": "stream",
     "text": [
      "{'jegan': 'c', 'kannan': 'c++', 'vel': 'c', 'ragu': 'python'}\n"
     ]
    }
   ],
   "source": [
    "Favorite_languages = {'jegan':'c','kannan':'c++','vel':'c','ragu':'python'}\n",
    "print(Favorite_languages)"
   ]
  },
  {
   "cell_type": "markdown",
   "id": "faf1d975",
   "metadata": {},
   "source": [
    "looping through a dictionary\n",
    "-----\n",
    "A single Python dictionary can contain just a few key-value pairs or millions\n",
    "of pairs. Because a dictionary can contain large amounts of data, Python lets\n",
    "you loop through a dictionary. Dictionaries can be used to store information\n",
    "in a variety of ways; therefore, several different ways exist to loop through\n",
    "them. You can loop through all of a dictionary’s key-value pairs, through its\n",
    "keys, or through its values."
   ]
  },
  {
   "cell_type": "markdown",
   "id": "54b3c316",
   "metadata": {},
   "source": [
    "Looping Through All Key-Value Pairs\n",
    "--------------\n",
    "Before we explore the different approaches to looping, let’s consider a\n",
    "new dictionary designed to store information about a user on a website.\n",
    "The following dictionary would store one person’s username, first name,\n",
    "and last name:"
   ]
  },
  {
   "cell_type": "code",
   "execution_count": 34,
   "id": "7b91dadc",
   "metadata": {},
   "outputs": [],
   "source": [
    "   user_0 ={\n",
    "       'username':'akash',\n",
    "       'first':'akash',\n",
    "       'last':'sam'\n",
    "   }"
   ]
  },
  {
   "cell_type": "markdown",
   "id": "eef19d3e",
   "metadata": {},
   "source": [
    "You can access any single piece of information about user_0 based\n",
    "on what you’ve already learned in this chapter. But what if you wanted to\n",
    "see everything stored in this user’s dictionary? To do so, you could loop\n",
    "through the dictionary using a for loop:"
   ]
  },
  {
   "cell_type": "code",
   "execution_count": 36,
   "id": "75759af7",
   "metadata": {},
   "outputs": [
    {
     "name": "stdout",
     "output_type": "stream",
     "text": [
      "\n",
      "key:username\n",
      "value:akash\n",
      "\n",
      "key:first\n",
      "value:akash\n",
      "\n",
      "key:last\n",
      "value:sam\n"
     ]
    }
   ],
   "source": [
    "for  key, value in user_0.items():\n",
    "    print('\\nkey:'+key)\n",
    "    print('value:'+value)"
   ]
  },
  {
   "cell_type": "code",
   "execution_count": 37,
   "id": "a113a32c",
   "metadata": {},
   "outputs": [
    {
     "name": "stdout",
     "output_type": "stream",
     "text": [
      "\n",
      "key:last\n",
      "value:sam\n",
      "\n",
      "key:last\n",
      "value:sam\n",
      "\n",
      "key:last\n",
      "value:sam\n"
     ]
    }
   ],
   "source": [
    "for k, v in user_0.items():\n",
    "    print('\\nkey:'+key)\n",
    "    print('value:'+value)\n"
   ]
  },
  {
   "cell_type": "markdown",
   "id": "4dd89f21",
   "metadata": {},
   "source": [
    "Looping Through a Dictionary’s Keys in Order\n",
    "--------------\n",
    "A dictionary always maintains a clear connection between each key and\n",
    "its associated value, but you never get the items from a dictionary in any\n",
    "predictable order. That’s not a problem, because you’ll usually just want\n",
    "to obtain the correct value associated with each key.\n",
    "\n",
    "One way to return items in a certain order is to sort the keys as they’re\n",
    "returned in the for loop. You can use the sorted() function to get a copy of\n",
    "the keys in order:"
   ]
  },
  {
   "cell_type": "code",
   "execution_count": 38,
   "id": "bc3c770f",
   "metadata": {},
   "outputs": [
    {
     "name": "stdout",
     "output_type": "stream",
     "text": [
      "{'jegan': 'c', 'kannan': 'c++', 'vel': 'c', 'ragu': 'python'}\n",
      "jegan\n",
      "kannan\n",
      "ragu\n",
      "vel\n"
     ]
    }
   ],
   "source": [
    "Favorite_languages = {'jegan':'c','kannan':'c++','vel':'c','ragu':'python'}\n",
    "print(Favorite_languages)\n",
    "for name in sorted(Favorite_languages.keys()):\n",
    "    print(name)"
   ]
  },
  {
   "cell_type": "code",
   "execution_count": 39,
   "id": "37873a58",
   "metadata": {},
   "outputs": [
    {
     "name": "stdout",
     "output_type": "stream",
     "text": [
      "{'jegan': 'c', 'kannan': 'c++', 'vel': 'c', 'ragu': 'python'}\n",
      "c\n",
      "c\n",
      "c++\n",
      "python\n"
     ]
    }
   ],
   "source": [
    "Favorite_languages = {'jegan':'c','kannan':'c++','vel':'c','ragu':'python'}\n",
    "print(Favorite_languages)\n",
    "for name in sorted(Favorite_languages.values()):\n",
    "    print(name)"
   ]
  },
  {
   "cell_type": "code",
   "execution_count": 47,
   "id": "fd551e3e",
   "metadata": {},
   "outputs": [
    {
     "name": "stdout",
     "output_type": "stream",
     "text": [
      "c\n",
      "c++\n",
      "python\n"
     ]
    }
   ],
   "source": [
    "for name in set(Favorite_languages.values()):\n",
    "    print(name)"
   ]
  },
  {
   "cell_type": "markdown",
   "id": "705eeb51",
   "metadata": {},
   "source": [
    "Nesting\n",
    "----------\n",
    "Dictionaries 109\n",
    "nesting\n",
    "Sometimes you’ll want to store a set of dictionaries in a list or a list of\n",
    "items as a value in a dictionary. This is called nesting. You can nest a set\n",
    "of dictionaries inside a list, a list of items inside a dictionary, or even a\n",
    "dictionary inside another dictionary. Nesting is a powerful feature, as the\n",
    "following examples will demonstrate.\n",
    "\n",
    "A List of Dictionaries\n",
    "----------------\n",
    "The alien_0 dictionary contains a variety of information about one alien,\n",
    "but it has no room to store information about a second alien, much less a\n",
    "screen full of aliens. How can you manage a fleet of aliens? One way is to\n",
    "make a list of aliens in which each alien is a dictionary of information about\n",
    "that alien. For example, the following code builds a list of three aliens:"
   ]
  },
  {
   "cell_type": "code",
   "execution_count": 62,
   "id": "36a8021a",
   "metadata": {},
   "outputs": [
    {
     "name": "stdout",
     "output_type": "stream",
     "text": [
      "{'color': 'green', 'points': 5}\n",
      "{'color': 'yellow', 'points': 10}\n",
      "{'color': 'red', 'points': 15}\n"
     ]
    }
   ],
   "source": [
    "alien_0 = {'color': 'green', 'points': 5}\n",
    "alien_1 = {'color': 'yellow', 'points': 10}\n",
    "alien_2 = {'color': 'red', 'points': 15}\n",
    "aliens = [alien_0, alien_1,alien_2]\n",
    "for alien in aliens:\n",
    "    print(alien)"
   ]
  },
  {
   "cell_type": "code",
   "execution_count": 63,
   "id": "3c497135",
   "metadata": {},
   "outputs": [
    {
     "name": "stdout",
     "output_type": "stream",
     "text": [
      "{'color': 'green', 'points': 5, 'speed': 'slow'}\n",
      "{'color': 'green', 'points': 5, 'speed': 'slow'}\n",
      "{'color': 'green', 'points': 5, 'speed': 'slow'}\n",
      "{'color': 'green', 'points': 5, 'speed': 'slow'}\n",
      "{'color': 'green', 'points': 5, 'speed': 'slow'}\n",
      "30\n"
     ]
    }
   ],
   "source": [
    "aliens = []\n",
    "for alien_number in range(30):\n",
    "    new_alien = {'color': 'green', 'points': 5, 'speed': 'slow'}\n",
    "    aliens.append(new_alien)\n",
    "    \n",
    "for alien in aliens[:5]:\n",
    "    print(alien)\n",
    "print(len(aliens))    "
   ]
  },
  {
   "cell_type": "markdown",
   "id": "f2cd2749",
   "metadata": {},
   "source": [
    "A List in a Dictionary\n",
    "----"
   ]
  },
  {
   "cell_type": "code",
   "execution_count": 64,
   "id": "0e285d8a",
   "metadata": {},
   "outputs": [],
   "source": [
    "pizza = {\n",
    "    'crust':'think',\n",
    "    'toppings':['mushrooms','cheese'],\n",
    "}"
   ]
  },
  {
   "cell_type": "code",
   "execution_count": 65,
   "id": "539b0240",
   "metadata": {},
   "outputs": [
    {
     "data": {
      "text/plain": [
       "{'crust': 'think', 'toppings': ['mushrooms', 'cheese']}"
      ]
     },
     "execution_count": 65,
     "metadata": {},
     "output_type": "execute_result"
    }
   ],
   "source": [
    "pizza"
   ]
  },
  {
   "cell_type": "code",
   "execution_count": 76,
   "id": "a3e1e023",
   "metadata": {},
   "outputs": [
    {
     "data": {
      "text/plain": [
       "['mushrooms', 'cheese']"
      ]
     },
     "execution_count": 76,
     "metadata": {},
     "output_type": "execute_result"
    }
   ],
   "source": [
    "pizza['toppings']"
   ]
  },
  {
   "cell_type": "code",
   "execution_count": 75,
   "id": "121596a7",
   "metadata": {},
   "outputs": [
    {
     "data": {
      "text/plain": [
       "'mushrooms'"
      ]
     },
     "execution_count": 75,
     "metadata": {},
     "output_type": "execute_result"
    }
   ],
   "source": [
    "pizza['toppings'][0]"
   ]
  },
  {
   "cell_type": "code",
   "execution_count": 79,
   "id": "a299c21d",
   "metadata": {},
   "outputs": [
    {
     "name": "stdout",
     "output_type": "stream",
     "text": [
      "\n",
      "Jen's favorite languages are:\n",
      "\tPython\n",
      "\tRuby\n",
      "\n",
      "Sarah's favorite languages are:\n",
      "\tC\n",
      "\n",
      "Edward's favorite languages are:\n",
      "\tRuby\n",
      "\tGo\n",
      "\n",
      "Phil's favorite languages are:\n",
      "\tPython\n",
      "\tHaskell\n"
     ]
    }
   ],
   "source": [
    "Favorite_languages = {\n",
    "    'jen': ['python', 'ruby'],\n",
    "'sarah': ['c'],\n",
    "'edward': ['ruby', 'go'],\n",
    "'phil': ['python', 'haskell']\n",
    "    \n",
    "}\n",
    "for name, languages in Favorite_languages.items():\n",
    "    print(\"\\n\" + name.title() + \"'s favorite languages are:\")\n",
    "    for language in languages:\n",
    "        print(\"\\t\" + language.title())"
   ]
  },
  {
   "cell_type": "markdown",
   "id": "c0de23c8",
   "metadata": {},
   "source": [
    "A Dictionary in a Dictionary\n",
    "----"
   ]
  },
  {
   "cell_type": "code",
   "execution_count": 82,
   "id": "32cdf5fe",
   "metadata": {},
   "outputs": [],
   "source": [
    "users = {'aeinstein': {'first': 'albert','last': 'einstein','location': 'princeton',},\n",
    "         'mcurie': {'first': 'marie','last': 'curie','location': 'paris',},\n",
    "        }"
   ]
  },
  {
   "cell_type": "code",
   "execution_count": null,
   "id": "cd648db7",
   "metadata": {},
   "outputs": [],
   "source": []
  }
 ],
 "metadata": {
  "kernelspec": {
   "display_name": "Python 3 (ipykernel)",
   "language": "python",
   "name": "python3"
  },
  "language_info": {
   "codemirror_mode": {
    "name": "ipython",
    "version": 3
   },
   "file_extension": ".py",
   "mimetype": "text/x-python",
   "name": "python",
   "nbconvert_exporter": "python",
   "pygments_lexer": "ipython3",
   "version": "3.10.0"
  }
 },
 "nbformat": 4,
 "nbformat_minor": 5
}
