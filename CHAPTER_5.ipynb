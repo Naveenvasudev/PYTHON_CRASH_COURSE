{
 "cells": [
  {
   "cell_type": "markdown",
   "metadata": {},
   "source": [
    "CHAPTER-5 IF STATEMENTS\n",
    "====="
   ]
  },
  {
   "cell_type": "markdown",
   "metadata": {},
   "source": [
    "In this chapter you’ll learn to write conditional tests, which allow you to\n",
    "check any condition of interest. You’ll learn to write simple if statements,\n",
    "and you’ll learn how to create a more complex series of if statements to\n",
    "identify when the exact conditions you want are present. You’ll then apply\n",
    "this concept to lists, so you’ll be able to write a for loop that handles most\n",
    "items in a list one way but handles certain items with specific values in a\n",
    "different way."
   ]
  },
  {
   "cell_type": "markdown",
   "metadata": {},
   "source": [
    "\n",
    "A simple example\n",
    "---"
   ]
  },
  {
   "cell_type": "code",
   "execution_count": 1,
   "metadata": {},
   "outputs": [],
   "source": [
    "List_of_os = ['Qubes','Linux', 'Unix', 'Windows']\n"
   ]
  },
  {
   "cell_type": "code",
   "execution_count": 2,
   "metadata": {},
   "outputs": [
    {
     "name": "stdout",
     "output_type": "stream",
     "text": [
      "QUBES\n",
      "Linux\n",
      "Unix\n",
      "Windows\n"
     ]
    }
   ],
   "source": [
    "for os in List_of_os:\n",
    "    if os == 'Qubes':\n",
    "        print(os.upper())\n",
    "    else:\n",
    "        print(os.title())    \n"
   ]
  },
  {
   "cell_type": "markdown",
   "metadata": {},
   "source": [
    "Conditional tests\n",
    "----"
   ]
  },
  {
   "cell_type": "markdown",
   "metadata": {},
   "source": [
    "At the heart of every if statement is an expression that can be evaluated as\n",
    "True or False and is called a conditional test. Python uses the values True and\n",
    "False to decide whether the code in an if statement should be executed. If a\n",
    "conditional test evaluates to True, Python executes the code following the if\n",
    "statement. If the test evaluates to False, Python ignores the code following\n",
    "the if statement."
   ]
  },
  {
   "cell_type": "markdown",
   "metadata": {},
   "source": [
    "Checking for Equality\n",
    "----\n",
    "Most conditional tests compare the current value of a variable to a specific\n",
    "value of interest. The simplest conditional test checks whether the value of a\n",
    "variable is equal to the value of interest:"
   ]
  },
  {
   "cell_type": "code",
   "execution_count": 3,
   "metadata": {},
   "outputs": [],
   "source": [
    "Machine_Name = \"Zephyrus\""
   ]
  },
  {
   "cell_type": "code",
   "execution_count": 5,
   "metadata": {},
   "outputs": [
    {
     "data": {
      "text/plain": [
       "True"
      ]
     },
     "execution_count": 5,
     "metadata": {},
     "output_type": "execute_result"
    }
   ],
   "source": [
    "Machine_Name == \"Zephyrus\""
   ]
  },
  {
   "cell_type": "code",
   "execution_count": 9,
   "metadata": {},
   "outputs": [],
   "source": [
    "Machine_Name = \"Zephyrus\""
   ]
  },
  {
   "cell_type": "code",
   "execution_count": 13,
   "metadata": {},
   "outputs": [
    {
     "data": {
      "text/plain": [
       "False"
      ]
     },
     "execution_count": 13,
     "metadata": {},
     "output_type": "execute_result"
    }
   ],
   "source": [
    "Machine_Name =='Mad_max'"
   ]
  },
  {
   "cell_type": "markdown",
   "metadata": {},
   "source": [
    "Ignoring Case When Checking for Equality\n",
    "---\n",
    "Testing for equality is case sensitive in Python. For example, two values with\n",
    "different capitalization are not considered equal:"
   ]
  },
  {
   "cell_type": "code",
   "execution_count": 16,
   "metadata": {},
   "outputs": [],
   "source": [
    "Machine_Name = 'ZEPHYRUS'"
   ]
  },
  {
   "cell_type": "code",
   "execution_count": 17,
   "metadata": {},
   "outputs": [
    {
     "data": {
      "text/plain": [
       "False"
      ]
     },
     "execution_count": 17,
     "metadata": {},
     "output_type": "execute_result"
    }
   ],
   "source": [
    "Machine_Name == 'zephyrus'"
   ]
  },
  {
   "cell_type": "code",
   "execution_count": 20,
   "metadata": {},
   "outputs": [
    {
     "data": {
      "text/plain": [
       "True"
      ]
     },
     "execution_count": 20,
     "metadata": {},
     "output_type": "execute_result"
    }
   ],
   "source": [
    "Machine_Name.lower() =='zephyrus'"
   ]
  },
  {
   "cell_type": "markdown",
   "metadata": {},
   "source": [
    "The lower() function doesn’t change\n",
    "the value that was originally stored in car, so you can do this kind of com-\n",
    "parison without affecting the original variable:m"
   ]
  },
  {
   "cell_type": "code",
   "execution_count": 21,
   "metadata": {},
   "outputs": [
    {
     "name": "stdout",
     "output_type": "stream",
     "text": [
      "ZEPHYRUS\n"
     ]
    }
   ],
   "source": [
    "Machine_Name = 'ZEPHYRUS'\n",
    "Machine_Name.lower() =='zephyrus'\n",
    "print(Machine_Name)\n"
   ]
  },
  {
   "cell_type": "markdown",
   "metadata": {},
   "source": [
    "Checking for Inequality\n",
    "---\n",
    "When you want to determine whether two values are not equal, you can\n",
    "combine an exclamation point and an equal sign (!=). The exclamation\n",
    "point represents not, as it does in many programming languages.\n",
    "Let’s use another if statement to examine how to use the inequality\n",
    "operator. We’ll store a requested pizza topping in a variable and then print\n",
    "a message if the person did not order anchovies:"
   ]
  },
  {
   "cell_type": "code",
   "execution_count": 22,
   "metadata": {},
   "outputs": [
    {
     "name": "stdout",
     "output_type": "stream",
     "text": [
      "Wrong Answer:\n"
     ]
    }
   ],
   "source": [
    "covid_19 = \"Lock Down- 3\"\n",
    "if covid_19 != \"Lock Down- 1\":\n",
    "    print(\"Wrong Answer:\")\n"
   ]
  },
  {
   "cell_type": "markdown",
   "metadata": {},
   "source": [
    "Numerical Comparisons\n",
    "---\n",
    "Testing numerical values is pretty straightforward. For example, the follow-\n",
    "ing code checks whether a person is 18 years old:"
   ]
  },
  {
   "cell_type": "code",
   "execution_count": 23,
   "metadata": {},
   "outputs": [
    {
     "data": {
      "text/plain": [
       "True"
      ]
     },
     "execution_count": 23,
     "metadata": {},
     "output_type": "execute_result"
    }
   ],
   "source": [
    "Total_Members_Class = 39\n",
    "Total_Members_Class == 39"
   ]
  },
  {
   "cell_type": "code",
   "execution_count": 29,
   "metadata": {},
   "outputs": [
    {
     "name": "stdout",
     "output_type": "stream",
     "text": [
      "That is not the correct answer. please try again!\n"
     ]
    }
   ],
   "source": [
    "Total_Members_Class = 12\n",
    "if Total_Members_Class != 39:\n",
    "    print(\"That is not the correct answer. please try again!\")\n",
    "\n",
    "else:\n",
    "    print(\"its correct\")    "
   ]
  },
  {
   "cell_type": "markdown",
   "metadata": {},
   "source": [
    "You can include various mathematical comparisons in your conditional\n",
    "statements as well, such as less than, less than or equal to, greater than, and\n",
    "greater than or equal to:"
   ]
  },
  {
   "cell_type": "code",
   "execution_count": 32,
   "metadata": {},
   "outputs": [
    {
     "data": {
      "text/plain": [
       "True"
      ]
     },
     "execution_count": 32,
     "metadata": {},
     "output_type": "execute_result"
    }
   ],
   "source": [
    "Age = 20\n",
    "Age  <= 21"
   ]
  },
  {
   "cell_type": "code",
   "execution_count": 33,
   "metadata": {},
   "outputs": [
    {
     "data": {
      "text/plain": [
       "False"
      ]
     },
     "execution_count": 33,
     "metadata": {},
     "output_type": "execute_result"
    }
   ],
   "source": [
    "Age > 21"
   ]
  },
  {
   "cell_type": "markdown",
   "metadata": {},
   "source": [
    "Checking Multiple Conditions\n",
    "------------\n",
    "You may want to check multiple conditions at the same time. For example,\n",
    "sometimes you might need two conditions to be True to take an action. Other\n",
    "times you might be satisfied with just one condition being True. The keywords\n",
    "and and or can help you in these situations.\n",
    "\n",
    "Using and to Check Multiple Conditions\n",
    "--------------------\n",
    "To check whether two conditions are both True simultaneously, use the key-\n",
    "word and to combine the two conditional tests; if each test passes, the over-\n",
    "all expression evaluates to True. If either test fails or if both tests fail, the\n",
    "expression evaluates to False.\n",
    "For example, you can check whether two people are both over 21 using\n",
    "the following test:"
   ]
  },
  {
   "cell_type": "code",
   "execution_count": 1,
   "metadata": {},
   "outputs": [],
   "source": [
    "Number_01 = 20\n",
    "Number_02 = 18\n"
   ]
  },
  {
   "cell_type": "code",
   "execution_count": 2,
   "metadata": {},
   "outputs": [
    {
     "data": {
      "text/plain": [
       "False"
      ]
     },
     "execution_count": 2,
     "metadata": {},
     "output_type": "execute_result"
    }
   ],
   "source": [
    "Number_01 >= 21 and Number_02 <=18"
   ]
  },
  {
   "cell_type": "code",
   "execution_count": 4,
   "metadata": {},
   "outputs": [
    {
     "data": {
      "text/plain": [
       "True"
      ]
     },
     "execution_count": 4,
     "metadata": {},
     "output_type": "execute_result"
    }
   ],
   "source": [
    "Number_01 >= 21 or Number_02 <=18"
   ]
  },
  {
   "cell_type": "markdown",
   "metadata": {},
   "source": [
    "Checking Whether a Value Is in a List\n",
    "------------------------------------\n",
    "Sometimes it’s important to check whether a list contains a certain value\n",
    "before taking an action. For example, you might want to check whether a\n",
    "new username already exists in a list of current usernames before complet-\n",
    "ing someone’s registration on a website. In a mapping project, you might\n",
    "want to check whether a submitted location already exists in a list of known\n",
    "locations.\n",
    "\n",
    "To find out whether a particular value is already in a list, use the key-\n",
    "word in. Let’s consider some code you might write for a pizzeria. We’ll\n",
    "make a list of toppings a customer has requested for a pizza and then\n",
    "check whether certain toppings are in the list."
   ]
  },
  {
   "cell_type": "code",
   "execution_count": 7,
   "metadata": {},
   "outputs": [
    {
     "data": {
      "text/plain": [
       "['Number_03', 'Number_05', 'Number_08', 'Number_38', 'Number_44']"
      ]
     },
     "execution_count": 7,
     "metadata": {},
     "output_type": "execute_result"
    }
   ],
   "source": [
    "list = [\"Number_03\", \"Number_05\", \"Number_08\", \"Number_38\",\"Number_44\"]\n",
    "list"
   ]
  },
  {
   "cell_type": "code",
   "execution_count": 8,
   "metadata": {},
   "outputs": [
    {
     "data": {
      "text/plain": [
       "True"
      ]
     },
     "execution_count": 8,
     "metadata": {},
     "output_type": "execute_result"
    }
   ],
   "source": [
    "\"Number_08\" in list"
   ]
  },
  {
   "cell_type": "markdown",
   "metadata": {},
   "source": [
    "Checking Whether a Value Is Not in a List\n",
    "-----------------\n",
    "Other times, it’s important to know if a value does not appear in a list. You\n",
    "can use the keyword not in this situation. For example, consider a list of users\n",
    "who are banned from commenting in a forum. You can check whether a\n",
    "user has been banned before allowing that person to submit a comment:"
   ]
  },
  {
   "cell_type": "code",
   "execution_count": 11,
   "metadata": {},
   "outputs": [
    {
     "name": "stdout",
     "output_type": "stream",
     "text": [
      "Number_13 is your classmate.\n"
     ]
    }
   ],
   "source": [
    "Not_a_classmates = [\"Number_12\", \"Number_35\", \"Number_41\", \"Number_45\",\"Number_47\"]\n",
    "Number = \"Number_13\"\n",
    "if Number not in Not_a_classmates:\n",
    "    print (Number + \" is your classmate.\")"
   ]
  },
  {
   "cell_type": "markdown",
   "metadata": {},
   "source": [
    "Boolean Expressions\n",
    "---\n",
    "\n",
    "True\n",
    "\n",
    "False"
   ]
  },
  {
   "cell_type": "markdown",
   "metadata": {},
   "source": [
    "if statements\n",
    "------\n",
    "When you understand conditional tests, you can start writing if statements.\n",
    "Several different kinds of if statements exist, and your choice of which to\n",
    "use depends on the number of conditions you need to test. You saw several\n",
    "examples of if statements in the discussion about conditional tests, but now\n",
    "let’s dig deeper into the topic.\n",
    "\n",
    "Simple if Statements\n",
    "---------------\n",
    "The simplest kind of if statement has one test and one action:"
   ]
  },
  {
   "cell_type": "code",
   "execution_count": 6,
   "metadata": {},
   "outputs": [
    {
     "data": {
      "text/plain": [
       "'\\nif conditional_test:\\n    do something\\n'"
      ]
     },
     "execution_count": 6,
     "metadata": {},
     "output_type": "execute_result"
    }
   ],
   "source": [
    "'''\n",
    "if conditional_test:\n",
    "    do something\n",
    "'''\n",
    "    "
   ]
  },
  {
   "cell_type": "code",
   "execution_count": 8,
   "metadata": {},
   "outputs": [
    {
     "name": "stdout",
     "output_type": "stream",
     "text": [
      "Yes\n"
     ]
    }
   ],
   "source": [
    "Number_12 = 20\n",
    "if Number_12 > 18:\n",
    "    print(\"Yes\")"
   ]
  },
  {
   "cell_type": "markdown",
   "metadata": {},
   "source": [
    "if-else Statements\n",
    "----\n",
    "Often, you’ll want to take one action when a conditional test passes and a dif-\n",
    "ferent action in all other cases. Python’s if-else syntax makes this possible.\n",
    "An if-else block is similar to a simple if statement, but the else statement\n",
    "allows you to define an action or set of actions that are executed when the\n",
    "conditional test fails."
   ]
  },
  {
   "cell_type": "code",
   "execution_count": 11,
   "metadata": {},
   "outputs": [
    {
     "name": "stdout",
     "output_type": "stream",
     "text": [
      "No\n"
     ]
    }
   ],
   "source": [
    "Number_12 = 20\n",
    "if Number_12 < 18:\n",
    "    print(\"Yes\")\n",
    "else:\n",
    "    print(\"No\")"
   ]
  },
  {
   "cell_type": "markdown",
   "metadata": {},
   "source": [
    "The if-elif-else Chain\n",
    "-------------\n",
    "Often, you’ll need to test more than two possible situations, and to evaluate\n",
    "these you can use Python’s if-elif-else syntax. Python executes only one\n",
    "block in an if-elif-else chain. It runs each conditional test in order until\n",
    "one passes. When a test passes, the code following that test is executed and\n",
    "Python skips the rest of the tests."
   ]
  },
  {
   "cell_type": "code",
   "execution_count": 25,
   "metadata": {},
   "outputs": [
    {
     "name": "stdout",
     "output_type": "stream",
     "text": [
      "Man\n"
     ]
    }
   ],
   "source": [
    "Age = 27\n",
    "if Age < 15:\n",
    "    print(\"Boy\")\n",
    "elif Age < 30:\n",
    "    print(\"Man\")\n",
    "else:\n",
    "    print(\"\")\n",
    "    "
   ]
  },
  {
   "cell_type": "markdown",
   "metadata": {},
   "source": [
    "Using Multiple elif Block\n",
    "---"
   ]
  },
  {
   "cell_type": "code",
   "execution_count": 1,
   "metadata": {},
   "outputs": [
    {
     "name": "stdout",
     "output_type": "stream",
     "text": [
      "Spare= $40 \n"
     ]
    }
   ],
   "source": [
    "Distance = 4\n",
    "if Distance <= 1:\n",
    "    print(\"Spare= $10 \")\n",
    "elif Distance <=2:\n",
    "    print(\"Spare= $20 \")\n",
    "elif Distance <=3 :\n",
    "    print(\"Spare= $30 \")\n",
    "elif Distance <=4 :\n",
    "    print(\"Spare= $40 \")\n",
    "else:\n",
    "    print(\"Enter with in limit:0-4\")\n",
    "    "
   ]
  },
  {
   "cell_type": "markdown",
   "metadata": {},
   "source": [
    "Omitting the else Block\n",
    "---"
   ]
  },
  {
   "cell_type": "code",
   "execution_count": 3,
   "metadata": {},
   "outputs": [
    {
     "name": "stdout",
     "output_type": "stream",
     "text": [
      "Spare= $40 \n"
     ]
    }
   ],
   "source": [
    "Distance = 4\n",
    "if Distance <= 1:\n",
    "    print(\"Spare= $10 \")\n",
    "elif Distance <=2:\n",
    "    print(\"Spare= $20 \")\n",
    "elif Distance <=3 :\n",
    "    print(\"Spare= $30 \")\n",
    "elif Distance <=4 :\n",
    "    print(\"Spare= $40 \")"
   ]
  },
  {
   "cell_type": "markdown",
   "metadata": {},
   "source": [
    "Testing Multiple Conditions\n",
    "----\n",
    "The if-elif-else chain is powerful, but it’s only appropriate to use when you\n",
    "just need one test to pass. As soon as Python finds one test that passes, it\n",
    "skips the rest of the tests. This behavior is beneficial, because it’s efficient\n",
    "and allows you to test for one specific condition."
   ]
  },
  {
   "cell_type": "code",
   "execution_count": 4,
   "metadata": {},
   "outputs": [
    {
     "name": "stdout",
     "output_type": "stream",
     "text": [
      "Today your mrg_drink, coffe\n",
      "Today your mrg_drink, tea\n"
     ]
    }
   ],
   "source": [
    "mrg_Drinks = ['coffe', 'tea', 'milk']\n",
    "\n",
    "if 'coffe' in mrg_Drinks:\n",
    "    print(\"Today your mrg_drink, \"+mrg_Drinks[0] )\n",
    "\n",
    "if 'tea' in mrg_Drinks:\n",
    "    print(\"Today your mrg_drink, \"+mrg_Drinks[1] )\n",
    "    \n",
    "if 'soup' in mrg_Drinks:\n",
    "    print(\"Today your mrg_drink, \"+mrg_Drinks[3] )\n",
    "        "
   ]
  },
  {
   "cell_type": "markdown",
   "metadata": {},
   "source": [
    "using if statements with lists\n",
    "----------------------------\n",
    "You can do some interesting work when you combine lists and if state-\n",
    "ments. You can watch for special values that need to be treated differently\n",
    "than other values in the list. You can manage changing conditions effi-\n",
    "ciently, such as the availability of certain items in a restaurant throughout a\n",
    "shift. You can also begin to prove that your code works as you expect it to in\n",
    "all possible situations."
   ]
  },
  {
   "cell_type": "markdown",
   "metadata": {},
   "source": [
    "Checking for Special Items\n",
    "------\n",
    "This chapter began with a simple example that showed how to handle a spe-\n",
    "cial value like 'bmw', which needed to be printed in a different format than\n",
    "other values in the list. Now that you have a basic understanding of condi-\n",
    "tional tests and if statements, let’s take a closer look at how you can watch\n",
    "for special values in a list and handle those values appropriately.\n",
    "Let’s continue with the pizzeria example. The pizzeria displays a message\n",
    "whenever a topping is added to your pizza, as it’s being made. The code for\n",
    "this action can be written very efficiently by making a list of toppings the\n",
    "customer has requested and using a loop to announce each topping as it’s\n",
    "added to the pizza:"
   ]
  },
  {
   "cell_type": "code",
   "execution_count": 5,
   "metadata": {},
   "outputs": [
    {
     "name": "stdout",
     "output_type": "stream",
     "text": [
      "mushroom\n",
      "green peppers\n",
      "extra cheese\n",
      "\n",
      "  Finished making your pizza!\n"
     ]
    }
   ],
   "source": [
    "requesting_toppings = ['mushroom','green peppers', 'extra cheese']\n",
    "for  requesting_topping in requesting_toppings:\n",
    "    print(requesting_topping)\n",
    "print (\"\\n  Finished making your pizza!\")    "
   ]
  },
  {
   "cell_type": "code",
   "execution_count": 9,
   "metadata": {},
   "outputs": [
    {
     "name": "stdout",
     "output_type": "stream",
     "text": [
      "mushroom\n",
      "Sorry, we are out of green peppers right now.\n",
      "extra cheese\n",
      "\n",
      "  Finished making your pizza!\n"
     ]
    }
   ],
   "source": [
    "requesting_toppings = ['mushroom','green peppers', 'extra cheese']\n",
    "for  requesting_topping in requesting_toppings:\n",
    "    if requesting_topping == 'green peppers':\n",
    "        print(\"Sorry, we are out of green peppers right now.\")\n",
    "    else:\n",
    "        print(requesting_topping)\n",
    "print (\"\\n  Finished making your pizza!\")    \n"
   ]
  },
  {
   "cell_type": "markdown",
   "metadata": {},
   "source": [
    "Checking That a List Is Not Empty\n",
    "----\n",
    "We’ve made a simple assumption about every list we’ve worked with so far;\n",
    "we’ve assumed that each list has at least one item in it. Soon we’ll let users\n",
    "provide the information that’s stored in a list, so we won’t be able to assume\n",
    "that a list has any items in it each time a loop is run. In this situation, it’s\n",
    "useful to check whether a list is empty before running a for loop."
   ]
  },
  {
   "cell_type": "code",
   "execution_count": 10,
   "metadata": {},
   "outputs": [
    {
     "name": "stdout",
     "output_type": "stream",
     "text": [
      "Are you sure you want a plain pizza?\n"
     ]
    }
   ],
   "source": [
    "requesting_toppings = []\n",
    "if requesting_toppings:\n",
    "    for requesting_topping in requesting_toppings:\n",
    "        print(requesting_topping)\n",
    "    print('\\n Finished making your pizza')\n",
    "else:\n",
    "    print(\"Are you sure you want a plain pizza?\")"
   ]
  },
  {
   "cell_type": "markdown",
   "metadata": {},
   "source": [
    "Using Multiple Lists\n",
    "----"
   ]
  },
  {
   "cell_type": "code",
   "execution_count": 11,
   "metadata": {},
   "outputs": [
    {
     "name": "stdout",
     "output_type": "stream",
     "text": [
      "sure, adding\n"
     ]
    }
   ],
   "source": [
    "available_toppings = ['mushrooms', 'olives', 'green peppers', 'pepperoni', 'pineapple', 'extra cheese']\n",
    "requested_toppings =['pineapple']\n",
    "for requested_topping in requested_toppings:\n",
    "    if requested_topping in available_toppings:\n",
    "        print(\"sure, adding\")\n",
    "    else:\n",
    "        print(\"unavailable\")\n"
   ]
  },
  {
   "cell_type": "markdown",
   "metadata": {},
   "source": [
    "styling your if statements\n",
    "----\n",
    "In every example in this chapter, you’ve seen good styling habits. The only\n",
    "recommendation PEP 8 provides for styling conditional tests is to use a\n",
    "single space around comparison operators, such as ==, >=, <=. For example:"
   ]
  },
  {
   "cell_type": "code",
   "execution_count": 17,
   "metadata": {
    "scrolled": true
   },
   "outputs": [
    {
     "name": "stdout",
     "output_type": "stream",
     "text": [
      "its True\n"
     ]
    }
   ],
   "source": [
    "Number_8 = 8\n",
    "if Number_8 > 1:\n",
    "    print(\"its True\") "
   ]
  },
  {
   "cell_type": "code",
   "execution_count": 18,
   "metadata": {},
   "outputs": [
    {
     "name": "stdout",
     "output_type": "stream",
     "text": [
      "its True\n"
     ]
    }
   ],
   "source": [
    "Number_8=8\n",
    "if Number_8>1:\n",
    "    print(\"its True\") "
   ]
  },
  {
   "cell_type": "code",
   "execution_count": null,
   "metadata": {},
   "outputs": [],
   "source": []
  }
 ],
 "metadata": {
  "interpreter": {
   "hash": "ebbedf730dfde948b34121e8ca894287b052bfcd8af577f20b1f29bc8a516fb4"
  },
  "kernelspec": {
   "display_name": "Python 3 (ipykernel)",
   "language": "python",
   "name": "python3"
  },
  "language_info": {
   "codemirror_mode": {
    "name": "ipython",
    "version": 3
   },
   "file_extension": ".py",
   "mimetype": "text/x-python",
   "name": "python",
   "nbconvert_exporter": "python",
   "pygments_lexer": "ipython3",
   "version": "3.10.0"
  }
 },
 "nbformat": 4,
 "nbformat_minor": 2
}
