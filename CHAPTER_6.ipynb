{
 "cells": [
  {
   "cell_type": "markdown",
   "id": "ed4fa226",
   "metadata": {},
   "source": [
    "CHAPTER-6 DICTIONARIES\n",
    "===="
   ]
  },
  {
   "cell_type": "markdown",
   "id": "b6459817",
   "metadata": {},
   "source": [
    "A Simple dictionary\n",
    "------------------\n",
    "Consider a game featuring aliens that can have different colors and point\n",
    "values. This simple dictionary stores information about a particular student:"
   ]
  },
  {
   "cell_type": "code",
   "execution_count": 8,
   "id": "b44208dd",
   "metadata": {},
   "outputs": [
    {
     "name": "stdout",
     "output_type": "stream",
     "text": [
      "{'Roll_number': 12, 'Name': 'Ragu'}\n"
     ]
    }
   ],
   "source": [
    "Student_12 = {'Roll_number':12, 'Name':'Ragu'}\n",
    "print(Student_12)"
   ]
  },
  {
   "cell_type": "code",
   "execution_count": 9,
   "id": "b6fe0ef6",
   "metadata": {},
   "outputs": [
    {
     "name": "stdout",
     "output_type": "stream",
     "text": [
      "Ragu\n"
     ]
    }
   ],
   "source": [
    "print(Student_12['Name'])"
   ]
  },
  {
   "cell_type": "markdown",
   "id": "9f86e34f",
   "metadata": {},
   "source": [
    "working with dictionaries\n",
    "---------"
   ]
  },
  {
   "cell_type": "markdown",
   "id": "214a0da1",
   "metadata": {},
   "source": [
    "A dictionary in Python is a collection of key-value pairs. Each key is connected\n",
    "to a value, and you can use a key to access the value associated with that key.\n",
    "A key’s value can be a number, a string, a list, or even another dictionary.\n",
    "In fact, you can use any object that you can create in Python as a value in a\n",
    "dictionary.\n",
    "\n",
    "In Python, a dictionary is wrapped in braces, {}, with a series of key-\n",
    "value pairs inside the braces, as shown in the earlier example:"
   ]
  },
  {
   "cell_type": "code",
   "execution_count": 10,
   "id": "5050b222",
   "metadata": {},
   "outputs": [],
   "source": [
    "alien_0 = {'color': 'green' , 'points':5}"
   ]
  },
  {
   "cell_type": "markdown",
   "id": "ee38762e",
   "metadata": {},
   "source": [
    "A key-value pair is a set of values associated with each other. When you\n",
    "provide a key, Python returns the value associated with that key. Every key\n",
    "is connected to its value by a colon, and individual key-value pairs are sepa-\n",
    "rated by commas. You can store as many key-value pairs as you want in a\n",
    "dictionary.\n",
    "\n",
    "\n",
    "The simplest dictionary has exactly one key-value pair, as shown in this\n",
    "modified version of the alien_0 dictionary"
   ]
  },
  {
   "cell_type": "code",
   "execution_count": 11,
   "id": "289bfff0",
   "metadata": {},
   "outputs": [],
   "source": [
    "alien_0 = {'color':'green'}"
   ]
  },
  {
   "cell_type": "markdown",
   "id": "4b54396b",
   "metadata": {},
   "source": [
    "This dictionary stores one piece of information about alien_0, namely\n",
    "the alien’s color. The string 'color' is a key in this dictionary, and its associ-\n",
    "ated value is 'green'."
   ]
  },
  {
   "cell_type": "markdown",
   "id": "b00ab0c6",
   "metadata": {},
   "source": [
    "Accessing Values in Dictionary\n",
    "---"
   ]
  },
  {
   "cell_type": "code",
   "execution_count": null,
   "id": "9ac73c12",
   "metadata": {},
   "outputs": [],
   "source": []
  }
 ],
 "metadata": {
  "kernelspec": {
   "display_name": "Python 3 (ipykernel)",
   "language": "python",
   "name": "python3"
  },
  "language_info": {
   "codemirror_mode": {
    "name": "ipython",
    "version": 3
   },
   "file_extension": ".py",
   "mimetype": "text/x-python",
   "name": "python",
   "nbconvert_exporter": "python",
   "pygments_lexer": "ipython3",
   "version": "3.10.0"
  }
 },
 "nbformat": 4,
 "nbformat_minor": 5
}
