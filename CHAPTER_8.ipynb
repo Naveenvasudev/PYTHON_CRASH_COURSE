{
 "cells": [
  {
   "cell_type": "markdown",
   "id": "ed6e470d",
   "metadata": {},
   "source": [
    "CHAPTER-8  FUNCTION\n",
    "============"
   ]
  },
  {
   "cell_type": "markdown",
   "id": "c016048f",
   "metadata": {},
   "source": [
    "In this chapter you’ll learn to write\n",
    "functions, which are named blocks of code\n",
    "that are designed to do one specific job.\n",
    "When you want to perform a particular task\n",
    "that you’ve defined in a function, you call the name\n",
    "of the function responsible for it. \n",
    "\n",
    "If you need to\n",
    "perform that task multiple times throughout your program, you don’t\n",
    "need to type all the code for the same task again and again; you just call\n",
    "the function dedicated to handling that task, and the call tells Python to\n",
    "run the code inside the function. You’ll find that using functions makes\n",
    "your programs easier to write, read, test, and fix.\n",
    "\n",
    "\n",
    "In this chapter you’ll also learn ways to pass information to functions.\n",
    "You’ll learn how to write certain functions whose primary job is to display\n",
    "information and other functions designed to process data and return a\n",
    "value or set of values. Finally, you’ll learn to store functions in separate files\n",
    "called modules to help organize your main program files."
   ]
  },
  {
   "cell_type": "markdown",
   "id": "077e4af6",
   "metadata": {},
   "source": [
    "Defining a function\n",
    "-----------\n",
    "Here’s a simple function named greet_user() that prints a greeting:"
   ]
  },
  {
   "cell_type": "code",
   "execution_count": 1,
   "id": "0d427f6f",
   "metadata": {},
   "outputs": [],
   "source": [
    "def greet_user():\n",
    "    print(\"Welcome to CHAPTER-8\")"
   ]
  },
  {
   "cell_type": "code",
   "execution_count": 3,
   "id": "5f215b7d",
   "metadata": {},
   "outputs": [
    {
     "name": "stdout",
     "output_type": "stream",
     "text": [
      "Welcome to CHAPTER-8\n"
     ]
    }
   ],
   "source": [
    "greet_user()"
   ]
  },
  {
   "cell_type": "markdown",
   "id": "2c2103f1",
   "metadata": {},
   "source": [
    "Passing Information to a Function\n",
    "------------------------\n",
    "Modified slightly, the function greet_user() can not only tell the user Hello!\n",
    "but also greet them by name. For the function to do this, you enter username\n",
    "in the parentheses of the function’s definition at def greet_user(). By add-\n",
    "ing username here you allow the function to accept any value of username you\n",
    "specify. The function now expects you to provide a value for username each\n",
    "time you call it. When you call greet_user(), you can pass it a name, such as\n",
    "'Ragu', inside the parentheses:\n",
    "Entering greet_user('Ragu') calls greet_user() and gives the function the\n",
    "information it needs to execute the print statement. The function accepts\n",
    "the name you passed it and displays the greeting for that name:"
   ]
  },
  {
   "cell_type": "code",
   "execution_count": 11,
   "id": "66db4522",
   "metadata": {},
   "outputs": [],
   "source": [
    "def greet_user(user_name):\n",
    "    print(\"Hello \"+user_name.title()+'!')"
   ]
  },
  {
   "cell_type": "code",
   "execution_count": 12,
   "id": "a96b9b0f",
   "metadata": {},
   "outputs": [
    {
     "name": "stdout",
     "output_type": "stream",
     "text": [
      "Hello Ragu!\n"
     ]
    }
   ],
   "source": [
    "greet_user('Ragu')"
   ]
  },
  {
   "cell_type": "markdown",
   "id": "420c7de0",
   "metadata": {},
   "source": [
    "Arguments and Parameters\n",
    "--------------------\n",
    "In the preceding greet_user() function, we defined greet_user() to require a\n",
    "value for the variable username. Once we called the function and gave it the\n",
    "information (a person’s name), it printed the right greeting.\n",
    "\n",
    "The variable username in the definition of greet_user() is an example of a\n",
    "parameter, a piece of information the function needs to do its job. The value\n",
    "'jesse' in greet_user('Ragu') is an example of an argument. An argument\n",
    "is a piece of information that is passed from a function call to a function.\n",
    "When we call the function, we place the value we want the function to work\n",
    "with in parentheses. In this case the argument 'Ragu' was passed to the\n",
    "function greet_user(), and the value was stored in the parameter username."
   ]
  },
  {
   "cell_type": "markdown",
   "id": "70318683",
   "metadata": {},
   "source": [
    "Passing arguments\n",
    "------------------\n",
    "Because a function definition can have multiple parameters, a function call\n",
    "may need multiple arguments. You can pass arguments to your functions\n",
    "in a number of ways. You can use positional arguments, which need to be in\n",
    "the same order the parameters were written; keyword arguments, where each\n",
    "argument consists of a variable name and a value; and lists and dictionaries\n",
    "of values. Let’s look at each of these in turn."
   ]
  },
  {
   "cell_type": "markdown",
   "id": "cbed19f5",
   "metadata": {},
   "source": [
    "Positional Arguments\n",
    "----\n",
    "When you call a function, Python must match each argument in the func-\n",
    "tion call with a parameter in the function definition. The simplest way to\n",
    "do this is based on the order of the arguments provided. Values matched\n",
    "up this way are called positional arguments.\n"
   ]
  },
  {
   "cell_type": "code",
   "execution_count": 9,
   "id": "a809d2ce",
   "metadata": {
    "scrolled": true
   },
   "outputs": [
    {
     "name": "stdout",
     "output_type": "stream",
     "text": [
      "DataScience\n",
      "DS-403\n"
     ]
    }
   ],
   "source": [
    "def subjects(name,code):\n",
    "    print(name)\n",
    "    print(code)\n",
    "    \n",
    "subjects('DataScience', \"DS-403\")    "
   ]
  },
  {
   "cell_type": "code",
   "execution_count": 1,
   "id": "a2628336",
   "metadata": {},
   "outputs": [
    {
     "name": "stdout",
     "output_type": "stream",
     "text": [
      "DataScience\n",
      "DS-403\n"
     ]
    }
   ],
   "source": [
    "def subjects(name,code):\n",
    "    print(name)\n",
    "    print(code)\n",
    "    \n",
    "subjects(name='DataScience',code = \"DS-403\")    "
   ]
  },
  {
   "cell_type": "code",
   "execution_count": 11,
   "id": "528ab0c3",
   "metadata": {},
   "outputs": [
    {
     "name": "stdout",
     "output_type": "stream",
     "text": [
      "DataScience\n",
      "403\n"
     ]
    }
   ],
   "source": [
    "def subjects(name,code = 403):\n",
    "    print(name)\n",
    "    print(code)\n",
    "    \n",
    "subjects('DataScience')"
   ]
  },
  {
   "cell_type": "code",
   "execution_count": 12,
   "id": "aca12735",
   "metadata": {},
   "outputs": [
    {
     "name": "stdout",
     "output_type": "stream",
     "text": [
      "('DataScience', 'machinelearning')\n"
     ]
    }
   ],
   "source": [
    "def subjects(*name):\n",
    "    print(name)\n",
    "    \n",
    "    \n",
    "subjects('DataScience','machinelearning')"
   ]
  },
  {
   "cell_type": "markdown",
   "id": "5c9c8c37",
   "metadata": {},
   "source": [
    "Multiple function calls\n",
    "---------------------"
   ]
  },
  {
   "cell_type": "code",
   "execution_count": 13,
   "id": "2a50f4a1",
   "metadata": {},
   "outputs": [
    {
     "name": "stdout",
     "output_type": "stream",
     "text": [
      "DataScience\n",
      "DS-403\n",
      "Machinelearing\n",
      "Ds-503\n"
     ]
    }
   ],
   "source": [
    "def subjects(name,code):\n",
    "    print(name)\n",
    "    print(code)\n",
    "    \n",
    "subjects('DataScience', \"DS-403\") \n",
    "subjects('Machinelearing','Ds-503')"
   ]
  },
  {
   "cell_type": "markdown",
   "id": "5da74691",
   "metadata": {},
   "source": [
    "Avoiding Argument Errors\n",
    "-------------\n",
    "When you start to use functions, don’t be surprised if you encounter errors\n",
    "about unmatched arguments. Unmatched arguments occur when you\n",
    "provide fewer or more arguments than a function needs to do its work.\n",
    "For example, here’s what happens if we try to call describe_pet() with no\n",
    "arguments:"
   ]
  },
  {
   "cell_type": "code",
   "execution_count": 2,
   "id": "94b3a693",
   "metadata": {},
   "outputs": [
    {
     "ename": "TypeError",
     "evalue": "subjects() missing 2 required positional arguments: 'name' and 'code'",
     "output_type": "error",
     "traceback": [
      "\u001b[1;31m-----------------------------------\u001b[0m",
      "\u001b[1;31mTypeError\u001b[0mTraceback (most recent call last)",
      "Input \u001b[1;32mIn [2]\u001b[0m, in \u001b[0;36m<module>\u001b[1;34m\u001b[0m\n\u001b[0;32m      2\u001b[0m     \u001b[38;5;28mprint\u001b[39m(name)\n\u001b[0;32m      3\u001b[0m     \u001b[38;5;28mprint\u001b[39m(code)\n\u001b[1;32m----> 6\u001b[0m \u001b[43msubjects\u001b[49m\u001b[43m(\u001b[49m\u001b[43m)\u001b[49m\n",
      "\u001b[1;31mTypeError\u001b[0m: subjects() missing 2 required positional arguments: 'name' and 'code'"
     ]
    }
   ],
   "source": [
    "def subjects(name,code):\n",
    "    print(name)\n",
    "    print(code)\n",
    "    \n",
    "    \n",
    "subjects()   \n",
    "    "
   ]
  },
  {
   "cell_type": "markdown",
   "id": "ef5fbd5e",
   "metadata": {},
   "source": [
    "Return Values\n",
    "--------\n",
    "A function doesn’t always have to display its output directly. Instead, it can\n",
    "process some data and then return a value or set of values. The value the\n",
    "function returns is called a return value. The return statement takes a value\n",
    "from inside a function and sends it back to the line that called the function.\n",
    "Return values allow you to move much of your program’s grunt work into\n",
    "functions, which can simplify the body of your program."
   ]
  },
  {
   "cell_type": "markdown",
   "id": "4aece593",
   "metadata": {},
   "source": [
    "Returning a Simple Value\n",
    "----------------\n",
    "Let’s look at a function that takes a first and last name, and returns a neatly\n",
    "formatted full name:"
   ]
  },
  {
   "cell_type": "code",
   "execution_count": 3,
   "id": "ea585044",
   "metadata": {},
   "outputs": [
    {
     "data": {
      "text/plain": [
       "'HOSUR IN INDIA'"
      ]
     },
     "execution_count": 3,
     "metadata": {},
     "output_type": "execute_result"
    }
   ],
   "source": [
    "def city_name(city , country = \"INDIA\"):\n",
    "    CITY =city + \" IN \"+ country \n",
    "    return CITY\n",
    "city_name(\"HOSUR\")"
   ]
  },
  {
   "cell_type": "code",
   "execution_count": null,
   "id": "c9f1b4d6",
   "metadata": {},
   "outputs": [],
   "source": []
  }
 ],
 "metadata": {
  "kernelspec": {
   "display_name": "Python 3 (ipykernel)",
   "language": "python",
   "name": "python3"
  },
  "language_info": {
   "codemirror_mode": {
    "name": "ipython",
    "version": 3
   },
   "file_extension": ".py",
   "mimetype": "text/x-python",
   "name": "python",
   "nbconvert_exporter": "python",
   "pygments_lexer": "ipython3",
   "version": "3.10.0"
  }
 },
 "nbformat": 4,
 "nbformat_minor": 5
}
