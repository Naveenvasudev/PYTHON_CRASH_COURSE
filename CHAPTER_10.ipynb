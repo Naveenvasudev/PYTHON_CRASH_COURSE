{
 "cells": [
  {
   "cell_type": "markdown",
   "id": "00fc79ea",
   "metadata": {},
   "source": [
    "CHAPTER-10 FILES AND EXCEPTIONS\n",
    "============================="
   ]
  },
  {
   "cell_type": "markdown",
   "id": "089e988b",
   "metadata": {},
   "source": [
    "File Handling\n",
    "-------\n",
    "Python too supports file handling and allows users to handle files i.e., to read and write files, along with many other file handling options, to operate on files. The concept of file handling has stretched over various other languages, but the implementation is either complicated or lengthy, but like other concepts of Python, this concept here is also easy and short. Python treats file differently as text or binary and this is important. Each line of code includes a sequence of characters and they form text file. Each line of a file is terminated with a special character, called the EOL or End of Line characters like comma {,} or newline character. It ends the current line and tells the interpreter a new one has begun. Let’s start with Reading and Writing files. "
   ]
  },
  {
   "cell_type": "code",
   "execution_count": null,
   "id": "96a5a3aa",
   "metadata": {},
   "outputs": [],
   "source": []
  }
 ],
 "metadata": {
  "kernelspec": {
   "display_name": "Python 3 (ipykernel)",
   "language": "python",
   "name": "python3"
  },
  "language_info": {
   "codemirror_mode": {
    "name": "ipython",
    "version": 3
   },
   "file_extension": ".py",
   "mimetype": "text/x-python",
   "name": "python",
   "nbconvert_exporter": "python",
   "pygments_lexer": "ipython3",
   "version": "3.10.0"
  }
 },
 "nbformat": 4,
 "nbformat_minor": 5
}
