{
 "cells": [
  {
   "cell_type": "markdown",
   "id": "cae4397d",
   "metadata": {},
   "source": [
    "CHAPTER-7 USER INPUT AND WHILE LOOPS\n",
    "============="
   ]
  },
  {
   "cell_type": "markdown",
   "id": "a215d880",
   "metadata": {},
   "source": [
    "how the input() function works\n",
    "------------\n",
    "The input() function pauses your program and waits for the user to enter\n",
    "some text. Once Python receives the user’s input, it stores it in a variable to\n",
    "make it convenient for you to work with.\n",
    "\n",
    "For example, the following program asks the user to enter some text,\n",
    "then displays that message back to the user:"
   ]
  },
  {
   "cell_type": "code",
   "execution_count": 1,
   "id": "d63ad00b",
   "metadata": {},
   "outputs": [
    {
     "name": "stdout",
     "output_type": "stream",
     "text": [
      "CHAPTER-7 USER INPUTS AND WHILE LOOPS\n"
     ]
    }
   ],
   "source": [
    "Message = input(\"CHAPTER-7 \")"
   ]
  },
  {
   "cell_type": "markdown",
   "id": "3496052f",
   "metadata": {},
   "source": [
    "Type casting\n",
    "----"
   ]
  },
  {
   "cell_type": "code",
   "execution_count": 3,
   "id": "fe339ff7",
   "metadata": {},
   "outputs": [
    {
     "data": {
      "text/plain": [
       "str"
      ]
     },
     "execution_count": 3,
     "metadata": {},
     "output_type": "execute_result"
    }
   ],
   "source": [
    "Message\n",
    "type(Message)"
   ]
  },
  {
   "cell_type": "code",
   "execution_count": 4,
   "id": "1813a967",
   "metadata": {},
   "outputs": [
    {
     "name": "stdout",
     "output_type": "stream",
     "text": [
      "5\n"
     ]
    }
   ],
   "source": [
    "Message = input()"
   ]
  },
  {
   "cell_type": "code",
   "execution_count": 5,
   "id": "25f8d2c9",
   "metadata": {},
   "outputs": [
    {
     "data": {
      "text/plain": [
       "str"
      ]
     },
     "execution_count": 5,
     "metadata": {},
     "output_type": "execute_result"
    }
   ],
   "source": [
    "type(Message)"
   ]
  },
  {
   "cell_type": "code",
   "execution_count": 8,
   "id": "64986424",
   "metadata": {},
   "outputs": [
    {
     "name": "stdout",
     "output_type": "stream",
     "text": [
      "5\n"
     ]
    }
   ],
   "source": [
    "Message = eval(input())"
   ]
  },
  {
   "cell_type": "code",
   "execution_count": 9,
   "id": "a6819fa7",
   "metadata": {},
   "outputs": [
    {
     "data": {
      "text/plain": [
       "int"
      ]
     },
     "execution_count": 9,
     "metadata": {},
     "output_type": "execute_result"
    }
   ],
   "source": [
    "type(Message)"
   ]
  },
  {
   "cell_type": "code",
   "execution_count": null,
   "id": "87d75367",
   "metadata": {},
   "outputs": [],
   "source": []
  }
 ],
 "metadata": {
  "kernelspec": {
   "display_name": "Python 3 (ipykernel)",
   "language": "python",
   "name": "python3"
  },
  "language_info": {
   "codemirror_mode": {
    "name": "ipython",
    "version": 3
   },
   "file_extension": ".py",
   "mimetype": "text/x-python",
   "name": "python",
   "nbconvert_exporter": "python",
   "pygments_lexer": "ipython3",
   "version": "3.10.0"
  }
 },
 "nbformat": 4,
 "nbformat_minor": 5
}
